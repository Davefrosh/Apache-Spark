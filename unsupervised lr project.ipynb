{
 "cells": [
  {
   "cell_type": "code",
   "execution_count": 0,
   "metadata": {
    "application/vnd.databricks.v1+cell": {
     "cellMetadata": {
      "byteLimit": 2048000,
      "rowLimit": 10000
     },
     "inputWidgets": {},
     "nuid": "6482be4c-f067-47c9-b0ac-35c938b94601",
     "showTitle": false,
     "title": ""
    }
   },
   "outputs": [
    {
     "output_type": "display_data",
     "data": {
      "text/html": [
       "<style scoped>\n",
       "  .table-result-container {\n",
       "    max-height: 300px;\n",
       "    overflow: auto;\n",
       "  }\n",
       "  table, th, td {\n",
       "    border: 1px solid black;\n",
       "    border-collapse: collapse;\n",
       "  }\n",
       "  th, td {\n",
       "    padding: 5px;\n",
       "  }\n",
       "  th {\n",
       "    text-align: left;\n",
       "  }\n",
       "</style><div class='table-result-container'><table class='table-result'><thead style='background-color: white'><tr><th>Session_Connection_Time</th><th>Bytes Transferred</th><th>Kali_Trace_Used</th><th>Servers_Corrupted</th><th>Pages_Corrupted</th><th>Location</th><th>WPM_Typing_Speed</th></tr></thead><tbody><tr><td>8.0</td><td>391.09</td><td>1</td><td>2.96</td><td>7.0</td><td>Slovenia</td><td>72.37</td></tr><tr><td>20.0</td><td>720.99</td><td>0</td><td>3.04</td><td>9.0</td><td>British Virgin Islands</td><td>69.08</td></tr><tr><td>31.0</td><td>356.32</td><td>1</td><td>3.71</td><td>8.0</td><td>Tokelau</td><td>70.58</td></tr><tr><td>2.0</td><td>228.08</td><td>1</td><td>2.48</td><td>8.0</td><td>Bolivia</td><td>70.8</td></tr><tr><td>20.0</td><td>408.5</td><td>0</td><td>3.57</td><td>8.0</td><td>Iraq</td><td>71.28</td></tr><tr><td>1.0</td><td>390.69</td><td>1</td><td>2.79</td><td>9.0</td><td>Marshall Islands</td><td>71.57</td></tr><tr><td>18.0</td><td>342.97</td><td>1</td><td>5.1</td><td>7.0</td><td>Georgia</td><td>72.32</td></tr><tr><td>22.0</td><td>101.61</td><td>1</td><td>3.03</td><td>7.0</td><td>Timor-Leste</td><td>72.03</td></tr><tr><td>15.0</td><td>275.53</td><td>1</td><td>3.53</td><td>8.0</td><td>Palestinian Territory</td><td>70.17</td></tr><tr><td>12.0</td><td>424.83</td><td>1</td><td>2.53</td><td>8.0</td><td>Bangladesh</td><td>69.99</td></tr><tr><td>15.0</td><td>249.09</td><td>1</td><td>3.39</td><td>9.0</td><td>Northern Mariana Islands</td><td>70.77</td></tr><tr><td>32.0</td><td>242.48</td><td>0</td><td>4.24</td><td>8.0</td><td>Zimbabwe</td><td>67.93</td></tr><tr><td>23.0</td><td>514.54</td><td>0</td><td>3.18</td><td>8.0</td><td>Isle of Man</td><td>68.56</td></tr><tr><td>9.0</td><td>284.77</td><td>0</td><td>3.12</td><td>9.0</td><td>Sao Tome and Principe</td><td>70.82</td></tr><tr><td>27.0</td><td>779.25</td><td>1</td><td>2.37</td><td>8.0</td><td>Greece</td><td>72.73</td></tr><tr><td>12.0</td><td>307.31</td><td>1</td><td>3.22</td><td>7.0</td><td>Solomon Islands</td><td>67.95</td></tr><tr><td>21.0</td><td>355.94</td><td>1</td><td>2.0</td><td>7.0</td><td>Guinea-Bissau</td><td>72.0</td></tr><tr><td>10.0</td><td>372.65</td><td>0</td><td>3.33</td><td>7.0</td><td>Burkina Faso</td><td>69.19</td></tr><tr><td>20.0</td><td>347.23</td><td>1</td><td>2.33</td><td>7.0</td><td>Mongolia</td><td>70.41</td></tr><tr><td>22.0</td><td>456.57</td><td>0</td><td>1.52</td><td>8.0</td><td>Nigeria</td><td>69.35</td></tr><tr><td>25.0</td><td>582.03</td><td>0</td><td>3.29</td><td>7.0</td><td>Kazakhstan</td><td>69.85</td></tr><tr><td>19.0</td><td>67.17</td><td>0</td><td>3.25</td><td>7.0</td><td>Faroe Islands</td><td>69.73</td></tr><tr><td>16.0</td><td>410.08</td><td>1</td><td>3.07</td><td>8.0</td><td>Lebanon</td><td>68.49</td></tr><tr><td>18.0</td><td>393.15</td><td>0</td><td>2.25</td><td>8.0</td><td>Guyana</td><td>70.87</td></tr><tr><td>34.0</td><td>11.04</td><td>0</td><td>2.31</td><td>8.0</td><td>Botswana</td><td>72.0</td></tr><tr><td>30.0</td><td>309.84</td><td>0</td><td>3.8</td><td>9.0</td><td>Zambia</td><td>70.98</td></tr><tr><td>20.0</td><td>415.39</td><td>1</td><td>3.47</td><td>7.0</td><td>Mexico</td><td>69.98</td></tr><tr><td>23.0</td><td>537.94</td><td>1</td><td>2.96</td><td>7.0</td><td>Mongolia</td><td>68.74</td></tr><tr><td>21.0</td><td>206.31</td><td>0</td><td>2.75</td><td>8.0</td><td>Gibraltar</td><td>68.82</td></tr><tr><td>20.0</td><td>192.85</td><td>1</td><td>2.21</td><td>8.0</td><td>Bhutan</td><td>73.1</td></tr><tr><td>28.0</td><td>311.81</td><td>0</td><td>2.05</td><td>8.0</td><td>Mayotte</td><td>69.29</td></tr><tr><td>19.0</td><td>429.56</td><td>1</td><td>2.95</td><td>8.0</td><td>Guernsey</td><td>68.94</td></tr><tr><td>19.0</td><td>472.38</td><td>0</td><td>1.54</td><td>8.0</td><td>Saint Barthelemy</td><td>70.82</td></tr><tr><td>26.0</td><td>607.31</td><td>0</td><td>1.55</td><td>7.0</td><td>Cambodia</td><td>72.2</td></tr><tr><td>18.0</td><td>566.97</td><td>1</td><td>2.82</td><td>7.0</td><td>Tuvalu</td><td>71.37</td></tr><tr><td>33.0</td><td>364.88</td><td>0</td><td>3.52</td><td>7.0</td><td>Philippines</td><td>74.24</td></tr><tr><td>21.0</td><td>169.89</td><td>0</td><td>4.78</td><td>9.0</td><td>Armenia</td><td>67.93</td></tr><tr><td>20.0</td><td>287.06</td><td>1</td><td>1.71</td><td>8.0</td><td>Nicaragua</td><td>71.75</td></tr><tr><td>29.0</td><td>225.58</td><td>0</td><td>3.4</td><td>8.0</td><td>Mauritania</td><td>71.25</td></tr><tr><td>16.0</td><td>522.88</td><td>1</td><td>3.71</td><td>8.0</td><td>Algeria</td><td>72.74</td></tr><tr><td>21.0</td><td>337.15</td><td>1</td><td>3.9</td><td>8.0</td><td>Azerbaijan</td><td>71.47</td></tr><tr><td>15.0</td><td>275.09</td><td>0</td><td>2.5</td><td>9.0</td><td>Algeria</td><td>72.95</td></tr><tr><td>20.0</td><td>60.16</td><td>0</td><td>3.81</td><td>8.0</td><td>Sri Lanka</td><td>69.97</td></tr><tr><td>23.0</td><td>358.54</td><td>1</td><td>2.25</td><td>8.0</td><td>Nauru</td><td>73.1</td></tr><tr><td>8.0</td><td>231.64</td><td>0</td><td>2.97</td><td>8.0</td><td>Palestinian Territory</td><td>67.08</td></tr><tr><td>22.0</td><td>274.24</td><td>1</td><td>2.1</td><td>8.0</td><td>Heard Island and McDonald Islands</td><td>68.81</td></tr><tr><td>29.0</td><td>372.86</td><td>0</td><td>1.77</td><td>8.0</td><td>Mauritania</td><td>70.63</td></tr><tr><td>20.0</td><td>710.55</td><td>0</td><td>3.71</td><td>8.0</td><td>Christmas Island</td><td>70.37</td></tr><tr><td>16.0</td><td>89.49</td><td>1</td><td>1.8</td><td>8.0</td><td>Holy See (Vatican City State)</td><td>74.92</td></tr><tr><td>11.0</td><td>447.05</td><td>0</td><td>2.67</td><td>7.0</td><td>Haiti</td><td>69.95</td></tr><tr><td>15.0</td><td>628.38</td><td>1</td><td>2.9</td><td>8.0</td><td>Japan</td><td>71.81</td></tr><tr><td>9.0</td><td>430.16</td><td>0</td><td>3.41</td><td>9.0</td><td>Syrian Arab Republic</td><td>72.26</td></tr><tr><td>2.0</td><td>343.1</td><td>1</td><td>2.74</td><td>8.0</td><td>Albania</td><td>70.64</td></tr><tr><td>13.0</td><td>416.9</td><td>1</td><td>2.76</td><td>8.0</td><td>United States Virgin Islands</td><td>71.63</td></tr><tr><td>9.0</td><td>549.52</td><td>1</td><td>5.11</td><td>9.0</td><td>Guernsey</td><td>70.4</td></tr><tr><td>25.0</td><td>369.0</td><td>0</td><td>3.05</td><td>7.0</td><td>Israel</td><td>70.68</td></tr><tr><td>22.0</td><td>184.63</td><td>0</td><td>3.45</td><td>8.0</td><td>Czech Republic</td><td>68.27</td></tr><tr><td>7.0</td><td>10.0</td><td>1</td><td>3.71</td><td>8.0</td><td>Sri Lanka</td><td>70.09</td></tr><tr><td>21.0</td><td>270.53</td><td>0</td><td>4.2</td><td>8.0</td><td>Bhutan</td><td>70.28</td></tr><tr><td>18.0</td><td>385.3</td><td>0</td><td>3.3</td><td>9.0</td><td>Malaysia</td><td>68.36</td></tr><tr><td>4.0</td><td>295.79</td><td>0</td><td>2.75</td><td>8.0</td><td>Maldives</td><td>73.15</td></tr><tr><td>15.0</td><td>322.91</td><td>0</td><td>2.72</td><td>7.0</td><td>Norway</td><td>69.02</td></tr><tr><td>16.0</td><td>316.42</td><td>0</td><td>3.39</td><td>9.0</td><td>South Africa</td><td>70.89</td></tr><tr><td>12.0</td><td>538.03</td><td>1</td><td>3.03</td><td>8.0</td><td>Afghanistan</td><td>71.55</td></tr><tr><td>13.0</td><td>252.2</td><td>1</td><td>3.54</td><td>8.0</td><td>Australia</td><td>67.69</td></tr><tr><td>9.0</td><td>281.56</td><td>1</td><td>2.04</td><td>9.0</td><td>Saint Kitts and Nevis</td><td>71.7</td></tr><tr><td>14.0</td><td>110.81</td><td>0</td><td>3.1</td><td>8.0</td><td>Jamaica</td><td>70.93</td></tr><tr><td>26.0</td><td>361.16</td><td>0</td><td>3.62</td><td>8.0</td><td>Tajikistan</td><td>69.49</td></tr><tr><td>28.0</td><td>179.55</td><td>1</td><td>2.4</td><td>8.0</td><td>Azerbaijan</td><td>70.57</td></tr><tr><td>17.0</td><td>499.16</td><td>1</td><td>3.75</td><td>6.0</td><td>Moldova</td><td>69.75</td></tr><tr><td>10.0</td><td>273.77</td><td>1</td><td>2.64</td><td>7.0</td><td>Lebanon</td><td>71.15</td></tr><tr><td>21.0</td><td>52.79</td><td>0</td><td>2.13</td><td>7.0</td><td>Equatorial Guinea</td><td>69.21</td></tr><tr><td>19.0</td><td>354.24</td><td>0</td><td>3.4</td><td>6.0</td><td>Turkey</td><td>70.26</td></tr><tr><td>18.0</td><td>635.81</td><td>0</td><td>3.43</td><td>7.0</td><td>Slovenia</td><td>74.01</td></tr><tr><td>12.0</td><td>428.8</td><td>1</td><td>2.22</td><td>7.0</td><td>Congo</td><td>72.65</td></tr><tr><td>30.0</td><td>366.5</td><td>1</td><td>2.81</td><td>8.0</td><td>Brunei Darussalam</td><td>71.25</td></tr><tr><td>8.0</td><td>365.62</td><td>0</td><td>1.56</td><td>7.0</td><td>South Georgia and the South Sandwich Islands</td><td>69.22</td></tr><tr><td>18.0</td><td>373.36</td><td>0</td><td>3.92</td><td>7.0</td><td>Holy See (Vatican City State)</td><td>72.95</td></tr><tr><td>24.0</td><td>534.74</td><td>1</td><td>3.25</td><td>8.0</td><td>Iran</td><td>72.19</td></tr><tr><td>8.0</td><td>64.83</td><td>0</td><td>3.58</td><td>8.0</td><td>Saudi Arabia</td><td>70.21</td></tr><tr><td>26.0</td><td>354.77</td><td>0</td><td>3.26</td><td>8.0</td><td>Netherlands Antilles</td><td>71.43</td></tr><tr><td>11.0</td><td>508.87</td><td>1</td><td>2.56</td><td>8.0</td><td>Botswana</td><td>71.15</td></tr><tr><td>14.0</td><td>331.49</td><td>1</td><td>2.35</td><td>9.0</td><td>Zambia</td><td>70.23</td></tr><tr><td>22.0</td><td>404.57</td><td>0</td><td>1.82</td><td>8.0</td><td>Bouvet Island (Bouvetoya)</td><td>69.74</td></tr><tr><td>13.0</td><td>518.68</td><td>1</td><td>2.87</td><td>7.0</td><td>Netherlands</td><td>72.01</td></tr><tr><td>22.0</td><td>494.63</td><td>1</td><td>2.4</td><td>8.0</td><td>Belarus</td><td>71.02</td></tr><tr><td>19.0</td><td>104.67</td><td>1</td><td>1.34</td><td>9.0</td><td>Cyprus</td><td>70.44</td></tr><tr><td>22.0</td><td>106.26</td><td>1</td><td>2.81</td><td>8.0</td><td>Netherlands Antilles</td><td>69.51</td></tr><tr><td>13.0</td><td>91.86</td><td>1</td><td>5.07</td><td>8.0</td><td>Yemen</td><td>69.43</td></tr><tr><td>14.0</td><td>257.35</td><td>0</td><td>2.17</td><td>7.0</td><td>Uzbekistan</td><td>68.71</td></tr><tr><td>4.0</td><td>459.64</td><td>0</td><td>3.09</td><td>7.0</td><td>Ecuador</td><td>69.27</td></tr><tr><td>20.0</td><td>651.24</td><td>0</td><td>1.13</td><td>8.0</td><td>Saint Barthelemy</td><td>68.84</td></tr><tr><td>30.0</td><td>23.3</td><td>0</td><td>3.54</td><td>7.0</td><td>Sao Tome and Principe</td><td>68.75</td></tr><tr><td>14.0</td><td>499.13</td><td>0</td><td>4.6</td><td>8.0</td><td>Haiti</td><td>72.04</td></tr><tr><td>18.0</td><td>39.13</td><td>0</td><td>2.0</td><td>9.0</td><td>Romania</td><td>71.28</td></tr><tr><td>34.0</td><td>320.47</td><td>0</td><td>3.76</td><td>8.0</td><td>Montenegro</td><td>70.67</td></tr><tr><td>4.0</td><td>458.36</td><td>0</td><td>1.25</td><td>8.0</td><td>Czech Republic</td><td>70.8</td></tr><tr><td>22.0</td><td>613.04</td><td>1</td><td>3.77</td><td>8.0</td><td>Niue</td><td>71.02</td></tr><tr><td>21.0</td><td>445.02</td><td>1</td><td>3.9</td><td>8.0</td><td>Saint Pierre and Miquelon</td><td>72.83</td></tr><tr><td>17.0</td><td>623.48</td><td>1</td><td>3.37</td><td>8.0</td><td>Mayotte</td><td>71.96</td></tr><tr><td>19.0</td><td>253.39</td><td>0</td><td>2.66</td><td>8.0</td><td>Saint Vincent and the Grenadines</td><td>75.0</td></tr><tr><td>27.0</td><td>664.85</td><td>1</td><td>3.74</td><td>7.0</td><td>Kyrgyz Republic</td><td>70.24</td></tr><tr><td>13.0</td><td>84.83</td><td>0</td><td>2.13</td><td>9.0</td><td>South Africa</td><td>71.89</td></tr><tr><td>14.0</td><td>526.84</td><td>1</td><td>4.14</td><td>8.0</td><td>Japan</td><td>72.18</td></tr><tr><td>22.0</td><td>468.35</td><td>1</td><td>4.11</td><td>7.0</td><td>New Zealand</td><td>70.28</td></tr><tr><td>20.0</td><td>271.97</td><td>1</td><td>3.38</td><td>8.0</td><td>United States Virgin Islands</td><td>73.17</td></tr><tr><td>13.0</td><td>449.15</td><td>1</td><td>3.33</td><td>7.0</td><td>Central African Republic</td><td>69.41</td></tr><tr><td>10.0</td><td>256.61</td><td>0</td><td>4.26</td><td>7.0</td><td>Belize</td><td>70.09</td></tr><tr><td>17.0</td><td>504.41</td><td>1</td><td>3.23</td><td>9.0</td><td>Seychelles</td><td>72.23</td></tr><tr><td>17.0</td><td>408.08</td><td>0</td><td>4.52</td><td>8.0</td><td>Sri Lanka</td><td>69.52</td></tr><tr><td>30.0</td><td>251.69</td><td>0</td><td>3.87</td><td>7.0</td><td>United States Minor Outlying Islands</td><td>68.24</td></tr><tr><td>18.0</td><td>345.83</td><td>0</td><td>5.32</td><td>8.0</td><td>Dominican Republic</td><td>72.16</td></tr><tr><td>12.0</td><td>345.41</td><td>1</td><td>3.53</td><td>9.0</td><td>Portugal</td><td>69.84</td></tr><tr><td>26.0</td><td>339.11</td><td>0</td><td>2.1</td><td>7.0</td><td>Trinidad and Tobago</td><td>72.09</td></tr><tr><td>8.0</td><td>857.01</td><td>0</td><td>1.0</td><td>7.0</td><td>Western Sahara</td><td>69.53</td></tr><tr><td>15.0</td><td>510.61</td><td>1</td><td>1.61</td><td>8.0</td><td>Grenada</td><td>70.63</td></tr><tr><td>11.0</td><td>449.09</td><td>0</td><td>4.22</td><td>7.0</td><td>Saint Lucia</td><td>69.09</td></tr><tr><td>28.0</td><td>336.36</td><td>1</td><td>3.06</td><td>8.0</td><td>Faroe Islands</td><td>69.13</td></tr><tr><td>14.0</td><td>640.86</td><td>0</td><td>4.1</td><td>8.0</td><td>Ethiopia</td><td>70.01</td></tr><tr><td>20.0</td><td>429.64</td><td>0</td><td>2.47</td><td>8.0</td><td>Sweden</td><td>71.75</td></tr><tr><td>22.0</td><td>348.41</td><td>0</td><td>2.3</td><td>9.0</td><td>Uruguay</td><td>68.37</td></tr><tr><td>8.0</td><td>752.49</td><td>0</td><td>4.11</td><td>9.0</td><td>Tokelau</td><td>70.41</td></tr><tr><td>12.0</td><td>517.46</td><td>1</td><td>3.24</td><td>7.0</td><td>Tanzania</td><td>74.17</td></tr><tr><td>25.0</td><td>456.28</td><td>1</td><td>4.07</td><td>8.0</td><td>Serbia</td><td>71.51</td></tr><tr><td>18.0</td><td>200.83</td><td>0</td><td>4.66</td><td>8.0</td><td>Ukraine</td><td>70.56</td></tr><tr><td>13.0</td><td>379.95</td><td>1</td><td>1.44</td><td>8.0</td><td>Turks and Caicos Islands</td><td>69.61</td></tr><tr><td>18.0</td><td>512.83</td><td>1</td><td>3.31</td><td>9.0</td><td>Slovakia (Slovak Republic)</td><td>71.0</td></tr><tr><td>32.0</td><td>340.49</td><td>1</td><td>3.82</td><td>8.0</td><td>Switzerland</td><td>70.86</td></tr><tr><td>18.0</td><td>118.03</td><td>1</td><td>3.21</td><td>7.0</td><td>Australia</td><td>73.79</td></tr><tr><td>15.0</td><td>447.83</td><td>0</td><td>2.6</td><td>8.0</td><td>United States Virgin Islands</td><td>71.24</td></tr><tr><td>8.0</td><td>372.05</td><td>0</td><td>3.13</td><td>8.0</td><td>Antigua and Barbuda</td><td>69.18</td></tr><tr><td>6.0</td><td>370.45</td><td>1</td><td>2.72</td><td>8.0</td><td>Philippines</td><td>68.33</td></tr><tr><td>7.0</td><td>178.56</td><td>0</td><td>4.18</td><td>8.0</td><td>Sweden</td><td>72.42</td></tr><tr><td>14.0</td><td>366.49</td><td>0</td><td>2.56</td><td>9.0</td><td>China</td><td>70.16</td></tr><tr><td>10.0</td><td>401.85</td><td>0</td><td>3.93</td><td>8.0</td><td>New Caledonia</td><td>68.73</td></tr><tr><td>13.0</td><td>485.85</td><td>0</td><td>5.25</td><td>8.0</td><td>Luxembourg</td><td>69.13</td></tr><tr><td>19.0</td><td>868.5</td><td>1</td><td>3.7</td><td>8.0</td><td>Malawi</td><td>73.46</td></tr><tr><td>6.0</td><td>567.16</td><td>1</td><td>5.05</td><td>8.0</td><td>Hungary</td><td>69.04</td></tr><tr><td>18.0</td><td>419.12</td><td>0</td><td>4.11</td><td>8.0</td><td>Palestinian Territory</td><td>70.98</td></tr><tr><td>20.0</td><td>288.32</td><td>1</td><td>2.71</td><td>8.0</td><td>Greece</td><td>70.31</td></tr><tr><td>15.0</td><td>422.47</td><td>1</td><td>3.01</td><td>8.0</td><td>Benin</td><td>71.3</td></tr><tr><td>15.0</td><td>548.83</td><td>1</td><td>3.78</td><td>7.0</td><td>Bahamas</td><td>68.53</td></tr><tr><td>24.0</td><td>334.41</td><td>0</td><td>4.27</td><td>7.0</td><td>Ethiopia</td><td>69.94</td></tr><tr><td>16.0</td><td>300.7</td><td>0</td><td>2.94</td><td>8.0</td><td>Kyrgyz Republic</td><td>69.47</td></tr><tr><td>17.0</td><td>334.8</td><td>1</td><td>2.51</td><td>8.0</td><td>Netherlands</td><td>73.38</td></tr><tr><td>5.0</td><td>378.46</td><td>1</td><td>5.17</td><td>8.0</td><td>Samoa</td><td>72.32</td></tr><tr><td>15.0</td><td>392.11</td><td>0</td><td>4.54</td><td>8.0</td><td>Kuwait</td><td>67.32</td></tr><tr><td>31.0</td><td>600.84</td><td>1</td><td>4.52</td><td>8.0</td><td>Austria</td><td>70.63</td></tr><tr><td>27.0</td><td>474.87</td><td>0</td><td>2.12</td><td>7.0</td><td>Saint Barthelemy</td><td>69.44</td></tr><tr><td>19.0</td><td>724.8</td><td>0</td><td>2.82</td><td>8.0</td><td>Turkmenistan</td><td>71.72</td></tr><tr><td>27.0</td><td>171.73</td><td>1</td><td>2.07</td><td>8.0</td><td>Bouvet Island (Bouvetoya)</td><td>70.97</td></tr><tr><td>18.0</td><td>374.74</td><td>1</td><td>4.92</td><td>7.0</td><td>Denmark</td><td>69.45</td></tr><tr><td>16.0</td><td>725.51</td><td>0</td><td>2.07</td><td>8.0</td><td>Kenya</td><td>70.57</td></tr><tr><td>12.0</td><td>75.53</td><td>0</td><td>3.73</td><td>8.0</td><td>Wallis and Futuna</td><td>69.77</td></tr><tr><td>21.0</td><td>202.83</td><td>1</td><td>2.6</td><td>8.0</td><td>Bhutan</td><td>67.95</td></tr><tr><td>34.0</td><td>392.47</td><td>0</td><td>2.31</td><td>8.0</td><td>Reunion</td><td>72.16</td></tr><tr><td>23.0</td><td>499.24</td><td>1</td><td>3.76</td><td>8.0</td><td>Cook Islands</td><td>72.45</td></tr><tr><td>21.0</td><td>701.52</td><td>0</td><td>2.95</td><td>8.0</td><td>Saint Lucia</td><td>68.92</td></tr><tr><td>11.0</td><td>125.69</td><td>1</td><td>2.33</td><td>7.0</td><td>Ukraine</td><td>69.3</td></tr><tr><td>13.0</td><td>218.71</td><td>0</td><td>3.2</td><td>7.0</td><td>Niue</td><td>67.31</td></tr><tr><td>22.0</td><td>623.58</td><td>1</td><td>3.53</td><td>7.0</td><td>Morocco</td><td>70.59</td></tr><tr><td>12.0</td><td>393.84</td><td>1</td><td>2.57</td><td>7.0</td><td>Cook Islands</td><td>72.17</td></tr><tr><td>19.0</td><td>449.53</td><td>1</td><td>4.93</td><td>7.0</td><td>Lao People's Democratic Republic</td><td>69.79</td></tr><tr><td>17.0</td><td>602.46</td><td>1</td><td>4.87</td><td>9.0</td><td>Sudan</td><td>70.26</td></tr><tr><td>17.0</td><td>272.34</td><td>0</td><td>3.83</td><td>9.0</td><td>Norway</td><td>70.07</td></tr><tr><td>18.0</td><td>181.78</td><td>0</td><td>2.76</td><td>9.0</td><td>Cambodia</td><td>72.51</td></tr><tr><td>21.0</td><td>434.82</td><td>1</td><td>2.43</td><td>8.0</td><td>Thailand</td><td>72.04</td></tr><tr><td>46.0</td><td>479.77</td><td>1</td><td>7.58</td><td>14.0</td><td>Liechtenstein</td><td>45.91</td></tr><tr><td>35.0</td><td>871.76</td><td>1</td><td>7.38</td><td>15.0</td><td>Mauritania</td><td>45.08</td></tr><tr><td>42.0</td><td>797.74</td><td>0</td><td>7.58</td><td>14.0</td><td>Russian Federation</td><td>46.24</td></tr><tr><td>36.0</td><td>793.45</td><td>0</td><td>7.18</td><td>13.0</td><td>Macedonia</td><td>45.9</td></tr><tr><td>41.0</td><td>832.71</td><td>1</td><td>9.22</td><td>14.0</td><td>Belize</td><td>42.43</td></tr><tr><td>41.0</td><td>766.67</td><td>0</td><td>6.73</td><td>14.0</td><td>Svalbard & Jan Mayen Islands</td><td>44.71</td></tr><tr><td>47.0</td><td>592.93</td><td>1</td><td>6.65</td><td>13.0</td><td>United States Virgin Islands</td><td>47.15</td></tr><tr><td>37.0</td><td>841.34</td><td>0</td><td>5.9</td><td>13.0</td><td>Isle of Man</td><td>45.57</td></tr><tr><td>38.0</td><td>984.63</td><td>1</td><td>6.88</td><td>14.0</td><td>Zimbabwe</td><td>43.34</td></tr><tr><td>27.0</td><td>874.26</td><td>0</td><td>7.05</td><td>14.0</td><td>Anguilla</td><td>45.72</td></tr><tr><td>51.0</td><td>1051.27</td><td>0</td><td>8.12</td><td>15.0</td><td>Netherlands Antilles</td><td>46.47</td></tr><tr><td>30.0</td><td>460.6</td><td>0</td><td>7.15</td><td>14.0</td><td>French Southern Territories</td><td>45.57</td></tr><tr><td>37.0</td><td>779.05</td><td>1</td><td>7.46</td><td>13.0</td><td>Hong Kong</td><td>43.64</td></tr><tr><td>42.0</td><td>869.04</td><td>0</td><td>6.45</td><td>15.0</td><td>Saint Helena</td><td>41.27</td></tr><tr><td>49.0</td><td>905.5</td><td>1</td><td>8.3</td><td>13.0</td><td>Iran</td><td>43.33</td></tr><tr><td>48.0</td><td>718.61</td><td>1</td><td>6.36</td><td>13.0</td><td>Tuvalu</td><td>41.85</td></tr><tr><td>39.0</td><td>1021.2</td><td>0</td><td>9.09</td><td>14.0</td><td>Montserrat</td><td>43.85</td></tr><tr><td>50.0</td><td>855.74</td><td>1</td><td>7.39</td><td>14.0</td><td>Costa Rica</td><td>43.72</td></tr><tr><td>45.0</td><td>1057.61</td><td>0</td><td>7.54</td><td>14.0</td><td>Malawi</td><td>44.28</td></tr><tr><td>46.0</td><td>765.98</td><td>1</td><td>8.5</td><td>14.0</td><td>Micronesia</td><td>43.58</td></tr><tr><td>35.0</td><td>717.42</td><td>0</td><td>5.08</td><td>14.0</td><td>Brunei Darussalam</td><td>46.92</td></tr><tr><td>40.0</td><td>774.59</td><td>0</td><td>6.94</td><td>14.0</td><td>Tunisia</td><td>43.36</td></tr><tr><td>31.0</td><td>905.1</td><td>0</td><td>6.27</td><td>15.0</td><td>Libyan Arab Jamahiriya</td><td>45.33</td></tr><tr><td>48.0</td><td>957.19</td><td>1</td><td>6.95</td><td>13.0</td><td>Guyana</td><td>43.43</td></tr><tr><td>32.0</td><td>563.64</td><td>0</td><td>7.13</td><td>13.0</td><td>Cameroon</td><td>45.99</td></tr><tr><td>39.0</td><td>852.69</td><td>1</td><td>7.9</td><td>14.0</td><td>Trinidad and Tobago</td><td>45.7</td></tr><tr><td>53.0</td><td>992.47</td><td>1</td><td>7.88</td><td>14.0</td><td>Nicaragua</td><td>43.3</td></tr><tr><td>29.0</td><td>1273.04</td><td>0</td><td>6.67</td><td>14.0</td><td>Slovakia (Slovak Republic)</td><td>44.36</td></tr><tr><td>42.0</td><td>921.8</td><td>0</td><td>7.72</td><td>13.0</td><td>Ethiopia</td><td>46.14</td></tr><tr><td>51.0</td><td>904.86</td><td>1</td><td>8.35</td><td>14.0</td><td>Bulgaria</td><td>43.25</td></tr><tr><td>37.0</td><td>634.7</td><td>1</td><td>7.4</td><td>14.0</td><td>Ecuador</td><td>44.25</td></tr><tr><td>36.0</td><td>831.48</td><td>1</td><td>6.49</td><td>14.0</td><td>Trinidad and Tobago</td><td>44.67</td></tr><tr><td>38.0</td><td>574.09</td><td>1</td><td>8.1</td><td>14.0</td><td>Mauritania</td><td>43.34</td></tr><tr><td>30.0</td><td>797.62</td><td>0</td><td>7.55</td><td>13.0</td><td>India</td><td>42.08</td></tr><tr><td>28.0</td><td>716.01</td><td>1</td><td>8.86</td><td>14.0</td><td>Estonia</td><td>44.46</td></tr><tr><td>39.0</td><td>485.16</td><td>0</td><td>7.84</td><td>14.0</td><td>Grenada</td><td>42.35</td></tr><tr><td>51.0</td><td>737.22</td><td>1</td><td>7.74</td><td>14.0</td><td>Armenia</td><td>45.02</td></tr><tr><td>46.0</td><td>925.89</td><td>1</td><td>8.51</td><td>14.0</td><td>Antigua and Barbuda</td><td>44.34</td></tr><tr><td>60.0</td><td>836.68</td><td>1</td><td>7.45</td><td>13.0</td><td>Comoros</td><td>41.41</td></tr><tr><td>48.0</td><td>844.2</td><td>1</td><td>8.08</td><td>14.0</td><td>Lithuania</td><td>45.93</td></tr><tr><td>42.0</td><td>805.38</td><td>0</td><td>6.72</td><td>13.0</td><td>Congo</td><td>40.57</td></tr><tr><td>52.0</td><td>669.21</td><td>1</td><td>7.35</td><td>13.0</td><td>Bangladesh</td><td>46.26</td></tr><tr><td>33.0</td><td>1019.94</td><td>0</td><td>6.46</td><td>14.0</td><td>Isle of Man</td><td>45.45</td></tr><tr><td>51.0</td><td>1243.86</td><td>0</td><td>6.26</td><td>14.0</td><td>Antigua and Barbuda</td><td>44.78</td></tr><tr><td>45.0</td><td>846.68</td><td>0</td><td>9.98</td><td>15.0</td><td>French Southern Territories</td><td>42.24</td></tr><tr><td>36.0</td><td>1056.69</td><td>1</td><td>6.11</td><td>14.0</td><td>United States Minor Outlying Islands</td><td>42.48</td></tr><tr><td>48.0</td><td>934.01</td><td>1</td><td>7.97</td><td>14.0</td><td>United States Minor Outlying Islands</td><td>44.58</td></tr><tr><td>52.0</td><td>660.79</td><td>1</td><td>8.08</td><td>13.0</td><td>Venezuela</td><td>44.67</td></tr><tr><td>36.0</td><td>555.32</td><td>0</td><td>6.59</td><td>14.0</td><td>Grenada</td><td>44.3</td></tr><tr><td>47.0</td><td>664.28</td><td>1</td><td>5.92</td><td>14.0</td><td>Switzerland</td><td>42.75</td></tr><tr><td>37.0</td><td>828.68</td><td>0</td><td>6.63</td><td>14.0</td><td>Saint Martin</td><td>42.27</td></tr><tr><td>37.0</td><td>855.17</td><td>1</td><td>8.68</td><td>14.0</td><td>Indonesia</td><td>45.0</td></tr><tr><td>46.0</td><td>640.06</td><td>0</td><td>6.89</td><td>14.0</td><td>Cocos (Keeling) Islands</td><td>44.48</td></tr><tr><td>39.0</td><td>596.69</td><td>0</td><td>8.73</td><td>14.0</td><td>Gabon</td><td>42.1</td></tr><tr><td>48.0</td><td>776.02</td><td>1</td><td>8.63</td><td>14.0</td><td>Palestinian Territory</td><td>44.58</td></tr><tr><td>36.0</td><td>821.21</td><td>0</td><td>6.35</td><td>14.0</td><td>Saint Pierre and Miquelon</td><td>48.6</td></tr><tr><td>35.0</td><td>828.09</td><td>1</td><td>7.14</td><td>15.0</td><td>Martinique</td><td>45.25</td></tr><tr><td>40.0</td><td>874.47</td><td>0</td><td>7.83</td><td>14.0</td><td>Russian Federation</td><td>45.02</td></tr><tr><td>55.0</td><td>686.47</td><td>1</td><td>7.5</td><td>13.0</td><td>Syrian Arab Republic</td><td>43.12</td></tr><tr><td>49.0</td><td>1019.63</td><td>0</td><td>7.65</td><td>13.0</td><td>Jordan</td><td>44.36</td></tr><tr><td>45.0</td><td>805.67</td><td>1</td><td>6.71</td><td>15.0</td><td>Madagascar</td><td>40.74</td></tr><tr><td>42.0</td><td>972.14</td><td>1</td><td>7.04</td><td>14.0</td><td>Northern Mariana Islands</td><td>44.24</td></tr><tr><td>44.0</td><td>1045.32</td><td>0</td><td>7.03</td><td>14.0</td><td>Guinea-Bissau</td><td>44.22</td></tr><tr><td>43.0</td><td>780.66</td><td>0</td><td>7.16</td><td>14.0</td><td>Burkina Faso</td><td>44.06</td></tr><tr><td>46.0</td><td>783.48</td><td>1</td><td>7.82</td><td>14.0</td><td>British Virgin Islands</td><td>43.09</td></tr><tr><td>36.0</td><td>594.29</td><td>0</td><td>7.14</td><td>15.0</td><td>Falkland Islands (Malvinas)</td><td>43.2</td></tr><tr><td>38.0</td><td>959.81</td><td>1</td><td>7.84</td><td>13.0</td><td>China</td><td>41.54</td></tr><tr><td>40.0</td><td>413.92</td><td>1</td><td>6.93</td><td>15.0</td><td>Netherlands</td><td>40.76</td></tr><tr><td>48.0</td><td>1040.38</td><td>0</td><td>7.17</td><td>15.0</td><td>Reunion</td><td>42.33</td></tr><tr><td>47.0</td><td>814.26</td><td>1</td><td>7.16</td><td>13.0</td><td>Philippines</td><td>42.76</td></tr><tr><td>28.0</td><td>887.3</td><td>0</td><td>7.49</td><td>12.0</td><td>Northern Mariana Islands</td><td>43.35</td></tr><tr><td>49.0</td><td>1081.16</td><td>0</td><td>5.73</td><td>14.0</td><td>Burkina Faso</td><td>45.49</td></tr><tr><td>39.0</td><td>861.74</td><td>1</td><td>6.82</td><td>14.0</td><td>United Kingdom</td><td>41.61</td></tr><tr><td>42.0</td><td>717.05</td><td>1</td><td>7.6</td><td>13.0</td><td>Korea</td><td>44.96</td></tr><tr><td>43.0</td><td>952.19</td><td>1</td><td>7.06</td><td>13.0</td><td>Sudan</td><td>44.15</td></tr><tr><td>37.0</td><td>581.9</td><td>0</td><td>6.44</td><td>14.0</td><td>Guinea-Bissau</td><td>44.28</td></tr><tr><td>40.0</td><td>930.52</td><td>0</td><td>8.47</td><td>13.0</td><td>Uzbekistan</td><td>42.65</td></tr><tr><td>35.0</td><td>669.51</td><td>0</td><td>7.12</td><td>14.0</td><td>Kiribati</td><td>45.94</td></tr><tr><td>31.0</td><td>844.64</td><td>1</td><td>7.48</td><td>14.0</td><td>Timor-Leste</td><td>41.86</td></tr><tr><td>43.0</td><td>859.48</td><td>1</td><td>7.02</td><td>14.0</td><td>Costa Rica</td><td>46.0</td></tr><tr><td>41.0</td><td>752.95</td><td>0</td><td>9.37</td><td>14.0</td><td>Heard Island and McDonald Islands</td><td>46.52</td></tr><tr><td>49.0</td><td>965.09</td><td>0</td><td>8.19</td><td>13.0</td><td>Saint Kitts and Nevis</td><td>47.08</td></tr><tr><td>49.0</td><td>704.64</td><td>0</td><td>7.96</td><td>14.0</td><td>Benin</td><td>45.34</td></tr><tr><td>44.0</td><td>948.6</td><td>1</td><td>7.89</td><td>14.0</td><td>United Arab Emirates</td><td>44.01</td></tr><tr><td>45.0</td><td>1077.69</td><td>1</td><td>8.33</td><td>13.0</td><td>Norway</td><td>44.83</td></tr><tr><td>43.0</td><td>881.46</td><td>0</td><td>7.64</td><td>14.0</td><td>Czech Republic</td><td>43.79</td></tr><tr><td>38.0</td><td>916.41</td><td>1</td><td>8.13</td><td>13.0</td><td>Malaysia</td><td>43.81</td></tr><tr><td>33.0</td><td>589.62</td><td>1</td><td>7.52</td><td>13.0</td><td>Saint Helena</td><td>44.11</td></tr><tr><td>41.0</td><td>808.67</td><td>1</td><td>7.41</td><td>14.0</td><td>Georgia</td><td>45.21</td></tr><tr><td>46.0</td><td>757.14</td><td>1</td><td>6.09</td><td>14.0</td><td>Oman</td><td>40.77</td></tr><tr><td>57.0</td><td>898.29</td><td>1</td><td>5.95</td><td>14.0</td><td>Netherlands</td><td>41.15</td></tr><tr><td>46.0</td><td>921.99</td><td>0</td><td>9.74</td><td>14.0</td><td>Singapore</td><td>40.0</td></tr><tr><td>52.0</td><td>957.47</td><td>1</td><td>6.37</td><td>14.0</td><td>Taiwan</td><td>41.04</td></tr><tr><td>50.0</td><td>535.88</td><td>0</td><td>7.16</td><td>14.0</td><td>Grenada</td><td>42.39</td></tr><tr><td>35.0</td><td>1018.53</td><td>1</td><td>7.75</td><td>14.0</td><td>Cyprus</td><td>45.79</td></tr><tr><td>40.0</td><td>842.59</td><td>1</td><td>6.41</td><td>14.0</td><td>Bahamas</td><td>43.32</td></tr><tr><td>34.0</td><td>878.07</td><td>0</td><td>7.65</td><td>15.0</td><td>Cook Islands</td><td>42.87</td></tr><tr><td>44.0</td><td>946.83</td><td>0</td><td>8.27</td><td>13.0</td><td>Egypt</td><td>44.39</td></tr><tr><td>45.0</td><td>1081.75</td><td>1</td><td>5.66</td><td>13.0</td><td>Macao</td><td>44.69</td></tr><tr><td>52.0</td><td>970.78</td><td>1</td><td>6.97</td><td>13.0</td><td>Cape Verde</td><td>42.84</td></tr><tr><td>31.0</td><td>823.61</td><td>0</td><td>7.35</td><td>14.0</td><td>Sri Lanka</td><td>47.0</td></tr><tr><td>47.0</td><td>853.6</td><td>0</td><td>7.4</td><td>15.0</td><td>British Indian Ocean Territory (Chagos Archipelago)</td><td>47.16</td></tr><tr><td>55.0</td><td>595.19</td><td>0</td><td>8.04</td><td>14.0</td><td>Western Sahara</td><td>45.14</td></tr><tr><td>40.0</td><td>816.29</td><td>1</td><td>8.71</td><td>13.0</td><td>Syrian Arab Republic</td><td>44.36</td></tr><tr><td>40.0</td><td>1024.68</td><td>1</td><td>8.29</td><td>15.0</td><td>Czech Republic</td><td>46.24</td></tr><tr><td>45.0</td><td>921.05</td><td>0</td><td>5.82</td><td>13.0</td><td>Togo</td><td>43.01</td></tr><tr><td>42.0</td><td>500.49</td><td>0</td><td>8.21</td><td>12.0</td><td>Sweden</td><td>43.7</td></tr><tr><td>42.0</td><td>978.74</td><td>1</td><td>8.43</td><td>14.0</td><td>French Polynesia</td><td>45.45</td></tr><tr><td>45.0</td><td>756.64</td><td>0</td><td>8.12</td><td>13.0</td><td>Iraq</td><td>42.95</td></tr><tr><td>50.0</td><td>1105.8</td><td>1</td><td>6.69</td><td>14.0</td><td>Moldova</td><td>45.61</td></tr><tr><td>52.0</td><td>749.56</td><td>1</td><td>7.2</td><td>14.0</td><td>Dominican Republic</td><td>44.04</td></tr><tr><td>31.0</td><td>962.5</td><td>1</td><td>6.54</td><td>14.0</td><td>Czech Republic</td><td>44.5</td></tr><tr><td>41.0</td><td>871.18</td><td>1</td><td>6.89</td><td>14.0</td><td>Christmas Island</td><td>45.88</td></tr><tr><td>55.0</td><td>804.37</td><td>1</td><td>10.0</td><td>13.0</td><td>Cuba</td><td>43.74</td></tr><tr><td>33.0</td><td>916.74</td><td>1</td><td>6.96</td><td>14.0</td><td>Pitcairn Islands</td><td>42.5</td></tr><tr><td>38.0</td><td>546.22</td><td>1</td><td>7.72</td><td>14.0</td><td>Ukraine</td><td>40.58</td></tr><tr><td>45.0</td><td>952.8</td><td>1</td><td>7.4</td><td>14.0</td><td>Switzerland</td><td>46.02</td></tr><tr><td>42.0</td><td>603.0</td><td>0</td><td>6.51</td><td>13.0</td><td>Greece</td><td>42.04</td></tr><tr><td>33.0</td><td>709.34</td><td>1</td><td>7.42</td><td>14.0</td><td>Burundi</td><td>42.49</td></tr><tr><td>38.0</td><td>407.63</td><td>0</td><td>7.68</td><td>14.0</td><td>Palau</td><td>48.11</td></tr><tr><td>40.0</td><td>920.82</td><td>1</td><td>8.52</td><td>14.0</td><td>Macao</td><td>47.97</td></tr><tr><td>43.0</td><td>712.2</td><td>1</td><td>7.5</td><td>13.0</td><td>Papua New Guinea</td><td>41.72</td></tr><tr><td>56.0</td><td>1190.87</td><td>0</td><td>5.77</td><td>14.0</td><td>Reunion</td><td>45.16</td></tr><tr><td>47.0</td><td>897.11</td><td>0</td><td>8.33</td><td>15.0</td><td>Rwanda</td><td>45.4</td></tr><tr><td>32.0</td><td>799.24</td><td>1</td><td>7.19</td><td>14.0</td><td>Svalbard & Jan Mayen Islands</td><td>44.41</td></tr><tr><td>43.0</td><td>663.74</td><td>1</td><td>7.45</td><td>13.0</td><td>Liechtenstein</td><td>46.76</td></tr><tr><td>38.0</td><td>840.81</td><td>0</td><td>6.35</td><td>13.0</td><td>Niger</td><td>44.32</td></tr><tr><td>55.0</td><td>970.68</td><td>0</td><td>7.93</td><td>15.0</td><td>Haiti</td><td>43.68</td></tr><tr><td>27.0</td><td>844.01</td><td>0</td><td>7.73</td><td>13.0</td><td>Tuvalu</td><td>45.89</td></tr><tr><td>47.0</td><td>540.31</td><td>0</td><td>7.78</td><td>13.0</td><td>Colombia</td><td>43.95</td></tr><tr><td>46.0</td><td>1046.05</td><td>0</td><td>6.86</td><td>15.0</td><td>Azerbaijan</td><td>42.75</td></tr><tr><td>44.0</td><td>675.72</td><td>0</td><td>7.8</td><td>14.0</td><td>Latvia</td><td>43.04</td></tr><tr><td>43.0</td><td>837.58</td><td>0</td><td>6.29</td><td>14.0</td><td>Saint Barthelemy</td><td>44.69</td></tr><tr><td>49.0</td><td>1330.5</td><td>1</td><td>7.96</td><td>13.0</td><td>Andorra</td><td>42.56</td></tr><tr><td>40.0</td><td>993.62</td><td>0</td><td>7.03</td><td>14.0</td><td>Australia</td><td>43.46</td></tr><tr><td>49.0</td><td>847.11</td><td>0</td><td>9.03</td><td>13.0</td><td>Antarctica (the territory South of 60 deg S)</td><td>42.11</td></tr><tr><td>48.0</td><td>1114.98</td><td>1</td><td>6.74</td><td>14.0</td><td>Trinidad and Tobago</td><td>43.92</td></tr><tr><td>52.0</td><td>800.64</td><td>0</td><td>6.1</td><td>14.0</td><td>United States Virgin Islands</td><td>43.45</td></tr><tr><td>39.0</td><td>866.95</td><td>0</td><td>6.82</td><td>14.0</td><td>Paraguay</td><td>44.12</td></tr><tr><td>33.0</td><td>1129.19</td><td>1</td><td>6.77</td><td>14.0</td><td>Mauritania</td><td>44.34</td></tr><tr><td>37.0</td><td>832.2</td><td>1</td><td>7.75</td><td>15.0</td><td>Libyan Arab Jamahiriya</td><td>42.24</td></tr><tr><td>52.0</td><td>942.14</td><td>1</td><td>6.95</td><td>14.0</td><td>Myanmar</td><td>45.78</td></tr><tr><td>37.0</td><td>1053.76</td><td>1</td><td>7.34</td><td>14.0</td><td>Indonesia</td><td>41.59</td></tr><tr><td>48.0</td><td>870.01</td><td>1</td><td>7.61</td><td>14.0</td><td>Antigua and Barbuda</td><td>44.98</td></tr><tr><td>35.0</td><td>699.3</td><td>1</td><td>7.51</td><td>14.0</td><td>Saint Kitts and Nevis</td><td>45.4</td></tr><tr><td>44.0</td><td>881.73</td><td>1</td><td>7.05</td><td>15.0</td><td>Reunion</td><td>43.8</td></tr><tr><td>51.0</td><td>723.94</td><td>1</td><td>6.34</td><td>13.0</td><td>Paraguay</td><td>44.27</td></tr><tr><td>41.0</td><td>760.15</td><td>0</td><td>7.63</td><td>14.0</td><td>Equatorial Guinea</td><td>41.8</td></tr><tr><td>44.0</td><td>957.05</td><td>1</td><td>6.38</td><td>13.0</td><td>United Arab Emirates</td><td>42.17</td></tr><tr><td>41.0</td><td>944.84</td><td>1</td><td>7.79</td><td>14.0</td><td>Belgium</td><td>41.73</td></tr><tr><td>33.0</td><td>834.11</td><td>0</td><td>5.79</td><td>14.0</td><td>Jamaica</td><td>44.96</td></tr><tr><td>41.0</td><td>706.51</td><td>0</td><td>7.61</td><td>14.0</td><td>French Southern Territories</td><td>44.58</td></tr><tr><td>44.0</td><td>749.63</td><td>0</td><td>7.26</td><td>14.0</td><td>Germany</td><td>42.6</td></tr><tr><td>42.0</td><td>1056.32</td><td>0</td><td>7.98</td><td>14.0</td><td>Nauru</td><td>43.92</td></tr><tr><td>45.0</td><td>584.73</td><td>1</td><td>6.56</td><td>15.0</td><td>Ukraine</td><td>41.72</td></tr><tr><td>39.0</td><td>830.06</td><td>0</td><td>7.5</td><td>14.0</td><td>Guernsey</td><td>42.7</td></tr><tr><td>44.0</td><td>794.9</td><td>1</td><td>6.27</td><td>14.0</td><td>Zimbabwe</td><td>43.39</td></tr><tr><td>52.0</td><td>951.14</td><td>0</td><td>8.66</td><td>14.0</td><td>Bulgaria</td><td>47.74</td></tr><tr><td>43.0</td><td>1039.8</td><td>1</td><td>7.08</td><td>13.0</td><td>Iraq</td><td>44.98</td></tr><tr><td>39.0</td><td>833.94</td><td>0</td><td>7.52</td><td>14.0</td><td>Svalbard & Jan Mayen Islands</td><td>46.68</td></tr><tr><td>50.0</td><td>842.78</td><td>0</td><td>6.62</td><td>15.0</td><td>United States Virgin Islands</td><td>44.69</td></tr><tr><td>37.0</td><td>746.81</td><td>0</td><td>7.93</td><td>14.0</td><td>Guinea-Bissau</td><td>43.12</td></tr><tr><td>39.0</td><td>761.91</td><td>1</td><td>6.99</td><td>14.0</td><td>Belarus</td><td>43.23</td></tr><tr><td>43.0</td><td>983.48</td><td>0</td><td>8.6</td><td>13.0</td><td>British Indian Ocean Territory (Chagos Archipelago)</td><td>43.21</td></tr><tr><td>39.0</td><td>690.22</td><td>1</td><td>6.8</td><td>13.0</td><td>Guinea-Bissau</td><td>42.75</td></tr><tr><td>36.0</td><td>1060.69</td><td>1</td><td>6.26</td><td>14.0</td><td>Canada</td><td>43.86</td></tr><tr><td>42.0</td><td>729.47</td><td>0</td><td>7.95</td><td>14.0</td><td>Tuvalu</td><td>45.27</td></tr></tbody></table></div>"
      ]
     },
     "metadata": {
      "application/vnd.databricks.v1+output": {
       "addedWidgets": {},
       "aggData": [],
       "aggError": "",
       "aggOverflow": false,
       "aggSchema": [],
       "aggSeriesLimitReached": false,
       "aggType": "",
       "arguments": {},
       "columnCustomDisplayInfos": {},
       "data": [
        [
         8.0,
         391.09,
         1,
         2.96,
         7.0,
         "Slovenia",
         72.37
        ],
        [
         20.0,
         720.99,
         0,
         3.04,
         9.0,
         "British Virgin Islands",
         69.08
        ],
        [
         31.0,
         356.32,
         1,
         3.71,
         8.0,
         "Tokelau",
         70.58
        ],
        [
         2.0,
         228.08,
         1,
         2.48,
         8.0,
         "Bolivia",
         70.8
        ],
        [
         20.0,
         408.5,
         0,
         3.57,
         8.0,
         "Iraq",
         71.28
        ],
        [
         1.0,
         390.69,
         1,
         2.79,
         9.0,
         "Marshall Islands",
         71.57
        ],
        [
         18.0,
         342.97,
         1,
         5.1,
         7.0,
         "Georgia",
         72.32
        ],
        [
         22.0,
         101.61,
         1,
         3.03,
         7.0,
         "Timor-Leste",
         72.03
        ],
        [
         15.0,
         275.53,
         1,
         3.53,
         8.0,
         "Palestinian Territory",
         70.17
        ],
        [
         12.0,
         424.83,
         1,
         2.53,
         8.0,
         "Bangladesh",
         69.99
        ],
        [
         15.0,
         249.09,
         1,
         3.39,
         9.0,
         "Northern Mariana Islands",
         70.77
        ],
        [
         32.0,
         242.48,
         0,
         4.24,
         8.0,
         "Zimbabwe",
         67.93
        ],
        [
         23.0,
         514.54,
         0,
         3.18,
         8.0,
         "Isle of Man",
         68.56
        ],
        [
         9.0,
         284.77,
         0,
         3.12,
         9.0,
         "Sao Tome and Principe",
         70.82
        ],
        [
         27.0,
         779.25,
         1,
         2.37,
         8.0,
         "Greece",
         72.73
        ],
        [
         12.0,
         307.31,
         1,
         3.22,
         7.0,
         "Solomon Islands",
         67.95
        ],
        [
         21.0,
         355.94,
         1,
         2.0,
         7.0,
         "Guinea-Bissau",
         72.0
        ],
        [
         10.0,
         372.65,
         0,
         3.33,
         7.0,
         "Burkina Faso",
         69.19
        ],
        [
         20.0,
         347.23,
         1,
         2.33,
         7.0,
         "Mongolia",
         70.41
        ],
        [
         22.0,
         456.57,
         0,
         1.52,
         8.0,
         "Nigeria",
         69.35
        ],
        [
         25.0,
         582.03,
         0,
         3.29,
         7.0,
         "Kazakhstan",
         69.85
        ],
        [
         19.0,
         67.17,
         0,
         3.25,
         7.0,
         "Faroe Islands",
         69.73
        ],
        [
         16.0,
         410.08,
         1,
         3.07,
         8.0,
         "Lebanon",
         68.49
        ],
        [
         18.0,
         393.15,
         0,
         2.25,
         8.0,
         "Guyana",
         70.87
        ],
        [
         34.0,
         11.04,
         0,
         2.31,
         8.0,
         "Botswana",
         72.0
        ],
        [
         30.0,
         309.84,
         0,
         3.8,
         9.0,
         "Zambia",
         70.98
        ],
        [
         20.0,
         415.39,
         1,
         3.47,
         7.0,
         "Mexico",
         69.98
        ],
        [
         23.0,
         537.94,
         1,
         2.96,
         7.0,
         "Mongolia",
         68.74
        ],
        [
         21.0,
         206.31,
         0,
         2.75,
         8.0,
         "Gibraltar",
         68.82
        ],
        [
         20.0,
         192.85,
         1,
         2.21,
         8.0,
         "Bhutan",
         73.1
        ],
        [
         28.0,
         311.81,
         0,
         2.05,
         8.0,
         "Mayotte",
         69.29
        ],
        [
         19.0,
         429.56,
         1,
         2.95,
         8.0,
         "Guernsey",
         68.94
        ],
        [
         19.0,
         472.38,
         0,
         1.54,
         8.0,
         "Saint Barthelemy",
         70.82
        ],
        [
         26.0,
         607.31,
         0,
         1.55,
         7.0,
         "Cambodia",
         72.2
        ],
        [
         18.0,
         566.97,
         1,
         2.82,
         7.0,
         "Tuvalu",
         71.37
        ],
        [
         33.0,
         364.88,
         0,
         3.52,
         7.0,
         "Philippines",
         74.24
        ],
        [
         21.0,
         169.89,
         0,
         4.78,
         9.0,
         "Armenia",
         67.93
        ],
        [
         20.0,
         287.06,
         1,
         1.71,
         8.0,
         "Nicaragua",
         71.75
        ],
        [
         29.0,
         225.58,
         0,
         3.4,
         8.0,
         "Mauritania",
         71.25
        ],
        [
         16.0,
         522.88,
         1,
         3.71,
         8.0,
         "Algeria",
         72.74
        ],
        [
         21.0,
         337.15,
         1,
         3.9,
         8.0,
         "Azerbaijan",
         71.47
        ],
        [
         15.0,
         275.09,
         0,
         2.5,
         9.0,
         "Algeria",
         72.95
        ],
        [
         20.0,
         60.16,
         0,
         3.81,
         8.0,
         "Sri Lanka",
         69.97
        ],
        [
         23.0,
         358.54,
         1,
         2.25,
         8.0,
         "Nauru",
         73.1
        ],
        [
         8.0,
         231.64,
         0,
         2.97,
         8.0,
         "Palestinian Territory",
         67.08
        ],
        [
         22.0,
         274.24,
         1,
         2.1,
         8.0,
         "Heard Island and McDonald Islands",
         68.81
        ],
        [
         29.0,
         372.86,
         0,
         1.77,
         8.0,
         "Mauritania",
         70.63
        ],
        [
         20.0,
         710.55,
         0,
         3.71,
         8.0,
         "Christmas Island",
         70.37
        ],
        [
         16.0,
         89.49,
         1,
         1.8,
         8.0,
         "Holy See (Vatican City State)",
         74.92
        ],
        [
         11.0,
         447.05,
         0,
         2.67,
         7.0,
         "Haiti",
         69.95
        ],
        [
         15.0,
         628.38,
         1,
         2.9,
         8.0,
         "Japan",
         71.81
        ],
        [
         9.0,
         430.16,
         0,
         3.41,
         9.0,
         "Syrian Arab Republic",
         72.26
        ],
        [
         2.0,
         343.1,
         1,
         2.74,
         8.0,
         "Albania",
         70.64
        ],
        [
         13.0,
         416.9,
         1,
         2.76,
         8.0,
         "United States Virgin Islands",
         71.63
        ],
        [
         9.0,
         549.52,
         1,
         5.11,
         9.0,
         "Guernsey",
         70.4
        ],
        [
         25.0,
         369.0,
         0,
         3.05,
         7.0,
         "Israel",
         70.68
        ],
        [
         22.0,
         184.63,
         0,
         3.45,
         8.0,
         "Czech Republic",
         68.27
        ],
        [
         7.0,
         10.0,
         1,
         3.71,
         8.0,
         "Sri Lanka",
         70.09
        ],
        [
         21.0,
         270.53,
         0,
         4.2,
         8.0,
         "Bhutan",
         70.28
        ],
        [
         18.0,
         385.3,
         0,
         3.3,
         9.0,
         "Malaysia",
         68.36
        ],
        [
         4.0,
         295.79,
         0,
         2.75,
         8.0,
         "Maldives",
         73.15
        ],
        [
         15.0,
         322.91,
         0,
         2.72,
         7.0,
         "Norway",
         69.02
        ],
        [
         16.0,
         316.42,
         0,
         3.39,
         9.0,
         "South Africa",
         70.89
        ],
        [
         12.0,
         538.03,
         1,
         3.03,
         8.0,
         "Afghanistan",
         71.55
        ],
        [
         13.0,
         252.2,
         1,
         3.54,
         8.0,
         "Australia",
         67.69
        ],
        [
         9.0,
         281.56,
         1,
         2.04,
         9.0,
         "Saint Kitts and Nevis",
         71.7
        ],
        [
         14.0,
         110.81,
         0,
         3.1,
         8.0,
         "Jamaica",
         70.93
        ],
        [
         26.0,
         361.16,
         0,
         3.62,
         8.0,
         "Tajikistan",
         69.49
        ],
        [
         28.0,
         179.55,
         1,
         2.4,
         8.0,
         "Azerbaijan",
         70.57
        ],
        [
         17.0,
         499.16,
         1,
         3.75,
         6.0,
         "Moldova",
         69.75
        ],
        [
         10.0,
         273.77,
         1,
         2.64,
         7.0,
         "Lebanon",
         71.15
        ],
        [
         21.0,
         52.79,
         0,
         2.13,
         7.0,
         "Equatorial Guinea",
         69.21
        ],
        [
         19.0,
         354.24,
         0,
         3.4,
         6.0,
         "Turkey",
         70.26
        ],
        [
         18.0,
         635.81,
         0,
         3.43,
         7.0,
         "Slovenia",
         74.01
        ],
        [
         12.0,
         428.8,
         1,
         2.22,
         7.0,
         "Congo",
         72.65
        ],
        [
         30.0,
         366.5,
         1,
         2.81,
         8.0,
         "Brunei Darussalam",
         71.25
        ],
        [
         8.0,
         365.62,
         0,
         1.56,
         7.0,
         "South Georgia and the South Sandwich Islands",
         69.22
        ],
        [
         18.0,
         373.36,
         0,
         3.92,
         7.0,
         "Holy See (Vatican City State)",
         72.95
        ],
        [
         24.0,
         534.74,
         1,
         3.25,
         8.0,
         "Iran",
         72.19
        ],
        [
         8.0,
         64.83,
         0,
         3.58,
         8.0,
         "Saudi Arabia",
         70.21
        ],
        [
         26.0,
         354.77,
         0,
         3.26,
         8.0,
         "Netherlands Antilles",
         71.43
        ],
        [
         11.0,
         508.87,
         1,
         2.56,
         8.0,
         "Botswana",
         71.15
        ],
        [
         14.0,
         331.49,
         1,
         2.35,
         9.0,
         "Zambia",
         70.23
        ],
        [
         22.0,
         404.57,
         0,
         1.82,
         8.0,
         "Bouvet Island (Bouvetoya)",
         69.74
        ],
        [
         13.0,
         518.68,
         1,
         2.87,
         7.0,
         "Netherlands",
         72.01
        ],
        [
         22.0,
         494.63,
         1,
         2.4,
         8.0,
         "Belarus",
         71.02
        ],
        [
         19.0,
         104.67,
         1,
         1.34,
         9.0,
         "Cyprus",
         70.44
        ],
        [
         22.0,
         106.26,
         1,
         2.81,
         8.0,
         "Netherlands Antilles",
         69.51
        ],
        [
         13.0,
         91.86,
         1,
         5.07,
         8.0,
         "Yemen",
         69.43
        ],
        [
         14.0,
         257.35,
         0,
         2.17,
         7.0,
         "Uzbekistan",
         68.71
        ],
        [
         4.0,
         459.64,
         0,
         3.09,
         7.0,
         "Ecuador",
         69.27
        ],
        [
         20.0,
         651.24,
         0,
         1.13,
         8.0,
         "Saint Barthelemy",
         68.84
        ],
        [
         30.0,
         23.3,
         0,
         3.54,
         7.0,
         "Sao Tome and Principe",
         68.75
        ],
        [
         14.0,
         499.13,
         0,
         4.6,
         8.0,
         "Haiti",
         72.04
        ],
        [
         18.0,
         39.13,
         0,
         2.0,
         9.0,
         "Romania",
         71.28
        ],
        [
         34.0,
         320.47,
         0,
         3.76,
         8.0,
         "Montenegro",
         70.67
        ],
        [
         4.0,
         458.36,
         0,
         1.25,
         8.0,
         "Czech Republic",
         70.8
        ],
        [
         22.0,
         613.04,
         1,
         3.77,
         8.0,
         "Niue",
         71.02
        ],
        [
         21.0,
         445.02,
         1,
         3.9,
         8.0,
         "Saint Pierre and Miquelon",
         72.83
        ],
        [
         17.0,
         623.48,
         1,
         3.37,
         8.0,
         "Mayotte",
         71.96
        ],
        [
         19.0,
         253.39,
         0,
         2.66,
         8.0,
         "Saint Vincent and the Grenadines",
         75.0
        ],
        [
         27.0,
         664.85,
         1,
         3.74,
         7.0,
         "Kyrgyz Republic",
         70.24
        ],
        [
         13.0,
         84.83,
         0,
         2.13,
         9.0,
         "South Africa",
         71.89
        ],
        [
         14.0,
         526.84,
         1,
         4.14,
         8.0,
         "Japan",
         72.18
        ],
        [
         22.0,
         468.35,
         1,
         4.11,
         7.0,
         "New Zealand",
         70.28
        ],
        [
         20.0,
         271.97,
         1,
         3.38,
         8.0,
         "United States Virgin Islands",
         73.17
        ],
        [
         13.0,
         449.15,
         1,
         3.33,
         7.0,
         "Central African Republic",
         69.41
        ],
        [
         10.0,
         256.61,
         0,
         4.26,
         7.0,
         "Belize",
         70.09
        ],
        [
         17.0,
         504.41,
         1,
         3.23,
         9.0,
         "Seychelles",
         72.23
        ],
        [
         17.0,
         408.08,
         0,
         4.52,
         8.0,
         "Sri Lanka",
         69.52
        ],
        [
         30.0,
         251.69,
         0,
         3.87,
         7.0,
         "United States Minor Outlying Islands",
         68.24
        ],
        [
         18.0,
         345.83,
         0,
         5.32,
         8.0,
         "Dominican Republic",
         72.16
        ],
        [
         12.0,
         345.41,
         1,
         3.53,
         9.0,
         "Portugal",
         69.84
        ],
        [
         26.0,
         339.11,
         0,
         2.1,
         7.0,
         "Trinidad and Tobago",
         72.09
        ],
        [
         8.0,
         857.01,
         0,
         1.0,
         7.0,
         "Western Sahara",
         69.53
        ],
        [
         15.0,
         510.61,
         1,
         1.61,
         8.0,
         "Grenada",
         70.63
        ],
        [
         11.0,
         449.09,
         0,
         4.22,
         7.0,
         "Saint Lucia",
         69.09
        ],
        [
         28.0,
         336.36,
         1,
         3.06,
         8.0,
         "Faroe Islands",
         69.13
        ],
        [
         14.0,
         640.86,
         0,
         4.1,
         8.0,
         "Ethiopia",
         70.01
        ],
        [
         20.0,
         429.64,
         0,
         2.47,
         8.0,
         "Sweden",
         71.75
        ],
        [
         22.0,
         348.41,
         0,
         2.3,
         9.0,
         "Uruguay",
         68.37
        ],
        [
         8.0,
         752.49,
         0,
         4.11,
         9.0,
         "Tokelau",
         70.41
        ],
        [
         12.0,
         517.46,
         1,
         3.24,
         7.0,
         "Tanzania",
         74.17
        ],
        [
         25.0,
         456.28,
         1,
         4.07,
         8.0,
         "Serbia",
         71.51
        ],
        [
         18.0,
         200.83,
         0,
         4.66,
         8.0,
         "Ukraine",
         70.56
        ],
        [
         13.0,
         379.95,
         1,
         1.44,
         8.0,
         "Turks and Caicos Islands",
         69.61
        ],
        [
         18.0,
         512.83,
         1,
         3.31,
         9.0,
         "Slovakia (Slovak Republic)",
         71.0
        ],
        [
         32.0,
         340.49,
         1,
         3.82,
         8.0,
         "Switzerland",
         70.86
        ],
        [
         18.0,
         118.03,
         1,
         3.21,
         7.0,
         "Australia",
         73.79
        ],
        [
         15.0,
         447.83,
         0,
         2.6,
         8.0,
         "United States Virgin Islands",
         71.24
        ],
        [
         8.0,
         372.05,
         0,
         3.13,
         8.0,
         "Antigua and Barbuda",
         69.18
        ],
        [
         6.0,
         370.45,
         1,
         2.72,
         8.0,
         "Philippines",
         68.33
        ],
        [
         7.0,
         178.56,
         0,
         4.18,
         8.0,
         "Sweden",
         72.42
        ],
        [
         14.0,
         366.49,
         0,
         2.56,
         9.0,
         "China",
         70.16
        ],
        [
         10.0,
         401.85,
         0,
         3.93,
         8.0,
         "New Caledonia",
         68.73
        ],
        [
         13.0,
         485.85,
         0,
         5.25,
         8.0,
         "Luxembourg",
         69.13
        ],
        [
         19.0,
         868.5,
         1,
         3.7,
         8.0,
         "Malawi",
         73.46
        ],
        [
         6.0,
         567.16,
         1,
         5.05,
         8.0,
         "Hungary",
         69.04
        ],
        [
         18.0,
         419.12,
         0,
         4.11,
         8.0,
         "Palestinian Territory",
         70.98
        ],
        [
         20.0,
         288.32,
         1,
         2.71,
         8.0,
         "Greece",
         70.31
        ],
        [
         15.0,
         422.47,
         1,
         3.01,
         8.0,
         "Benin",
         71.3
        ],
        [
         15.0,
         548.83,
         1,
         3.78,
         7.0,
         "Bahamas",
         68.53
        ],
        [
         24.0,
         334.41,
         0,
         4.27,
         7.0,
         "Ethiopia",
         69.94
        ],
        [
         16.0,
         300.7,
         0,
         2.94,
         8.0,
         "Kyrgyz Republic",
         69.47
        ],
        [
         17.0,
         334.8,
         1,
         2.51,
         8.0,
         "Netherlands",
         73.38
        ],
        [
         5.0,
         378.46,
         1,
         5.17,
         8.0,
         "Samoa",
         72.32
        ],
        [
         15.0,
         392.11,
         0,
         4.54,
         8.0,
         "Kuwait",
         67.32
        ],
        [
         31.0,
         600.84,
         1,
         4.52,
         8.0,
         "Austria",
         70.63
        ],
        [
         27.0,
         474.87,
         0,
         2.12,
         7.0,
         "Saint Barthelemy",
         69.44
        ],
        [
         19.0,
         724.8,
         0,
         2.82,
         8.0,
         "Turkmenistan",
         71.72
        ],
        [
         27.0,
         171.73,
         1,
         2.07,
         8.0,
         "Bouvet Island (Bouvetoya)",
         70.97
        ],
        [
         18.0,
         374.74,
         1,
         4.92,
         7.0,
         "Denmark",
         69.45
        ],
        [
         16.0,
         725.51,
         0,
         2.07,
         8.0,
         "Kenya",
         70.57
        ],
        [
         12.0,
         75.53,
         0,
         3.73,
         8.0,
         "Wallis and Futuna",
         69.77
        ],
        [
         21.0,
         202.83,
         1,
         2.6,
         8.0,
         "Bhutan",
         67.95
        ],
        [
         34.0,
         392.47,
         0,
         2.31,
         8.0,
         "Reunion",
         72.16
        ],
        [
         23.0,
         499.24,
         1,
         3.76,
         8.0,
         "Cook Islands",
         72.45
        ],
        [
         21.0,
         701.52,
         0,
         2.95,
         8.0,
         "Saint Lucia",
         68.92
        ],
        [
         11.0,
         125.69,
         1,
         2.33,
         7.0,
         "Ukraine",
         69.3
        ],
        [
         13.0,
         218.71,
         0,
         3.2,
         7.0,
         "Niue",
         67.31
        ],
        [
         22.0,
         623.58,
         1,
         3.53,
         7.0,
         "Morocco",
         70.59
        ],
        [
         12.0,
         393.84,
         1,
         2.57,
         7.0,
         "Cook Islands",
         72.17
        ],
        [
         19.0,
         449.53,
         1,
         4.93,
         7.0,
         "Lao People's Democratic Republic",
         69.79
        ],
        [
         17.0,
         602.46,
         1,
         4.87,
         9.0,
         "Sudan",
         70.26
        ],
        [
         17.0,
         272.34,
         0,
         3.83,
         9.0,
         "Norway",
         70.07
        ],
        [
         18.0,
         181.78,
         0,
         2.76,
         9.0,
         "Cambodia",
         72.51
        ],
        [
         21.0,
         434.82,
         1,
         2.43,
         8.0,
         "Thailand",
         72.04
        ],
        [
         46.0,
         479.77,
         1,
         7.58,
         14.0,
         "Liechtenstein",
         45.91
        ],
        [
         35.0,
         871.76,
         1,
         7.38,
         15.0,
         "Mauritania",
         45.08
        ],
        [
         42.0,
         797.74,
         0,
         7.58,
         14.0,
         "Russian Federation",
         46.24
        ],
        [
         36.0,
         793.45,
         0,
         7.18,
         13.0,
         "Macedonia",
         45.9
        ],
        [
         41.0,
         832.71,
         1,
         9.22,
         14.0,
         "Belize",
         42.43
        ],
        [
         41.0,
         766.67,
         0,
         6.73,
         14.0,
         "Svalbard & Jan Mayen Islands",
         44.71
        ],
        [
         47.0,
         592.93,
         1,
         6.65,
         13.0,
         "United States Virgin Islands",
         47.15
        ],
        [
         37.0,
         841.34,
         0,
         5.9,
         13.0,
         "Isle of Man",
         45.57
        ],
        [
         38.0,
         984.63,
         1,
         6.88,
         14.0,
         "Zimbabwe",
         43.34
        ],
        [
         27.0,
         874.26,
         0,
         7.05,
         14.0,
         "Anguilla",
         45.72
        ],
        [
         51.0,
         1051.27,
         0,
         8.12,
         15.0,
         "Netherlands Antilles",
         46.47
        ],
        [
         30.0,
         460.6,
         0,
         7.15,
         14.0,
         "French Southern Territories",
         45.57
        ],
        [
         37.0,
         779.05,
         1,
         7.46,
         13.0,
         "Hong Kong",
         43.64
        ],
        [
         42.0,
         869.04,
         0,
         6.45,
         15.0,
         "Saint Helena",
         41.27
        ],
        [
         49.0,
         905.5,
         1,
         8.3,
         13.0,
         "Iran",
         43.33
        ],
        [
         48.0,
         718.61,
         1,
         6.36,
         13.0,
         "Tuvalu",
         41.85
        ],
        [
         39.0,
         1021.2,
         0,
         9.09,
         14.0,
         "Montserrat",
         43.85
        ],
        [
         50.0,
         855.74,
         1,
         7.39,
         14.0,
         "Costa Rica",
         43.72
        ],
        [
         45.0,
         1057.61,
         0,
         7.54,
         14.0,
         "Malawi",
         44.28
        ],
        [
         46.0,
         765.98,
         1,
         8.5,
         14.0,
         "Micronesia",
         43.58
        ],
        [
         35.0,
         717.42,
         0,
         5.08,
         14.0,
         "Brunei Darussalam",
         46.92
        ],
        [
         40.0,
         774.59,
         0,
         6.94,
         14.0,
         "Tunisia",
         43.36
        ],
        [
         31.0,
         905.1,
         0,
         6.27,
         15.0,
         "Libyan Arab Jamahiriya",
         45.33
        ],
        [
         48.0,
         957.19,
         1,
         6.95,
         13.0,
         "Guyana",
         43.43
        ],
        [
         32.0,
         563.64,
         0,
         7.13,
         13.0,
         "Cameroon",
         45.99
        ],
        [
         39.0,
         852.69,
         1,
         7.9,
         14.0,
         "Trinidad and Tobago",
         45.7
        ],
        [
         53.0,
         992.47,
         1,
         7.88,
         14.0,
         "Nicaragua",
         43.3
        ],
        [
         29.0,
         1273.04,
         0,
         6.67,
         14.0,
         "Slovakia (Slovak Republic)",
         44.36
        ],
        [
         42.0,
         921.8,
         0,
         7.72,
         13.0,
         "Ethiopia",
         46.14
        ],
        [
         51.0,
         904.86,
         1,
         8.35,
         14.0,
         "Bulgaria",
         43.25
        ],
        [
         37.0,
         634.7,
         1,
         7.4,
         14.0,
         "Ecuador",
         44.25
        ],
        [
         36.0,
         831.48,
         1,
         6.49,
         14.0,
         "Trinidad and Tobago",
         44.67
        ],
        [
         38.0,
         574.09,
         1,
         8.1,
         14.0,
         "Mauritania",
         43.34
        ],
        [
         30.0,
         797.62,
         0,
         7.55,
         13.0,
         "India",
         42.08
        ],
        [
         28.0,
         716.01,
         1,
         8.86,
         14.0,
         "Estonia",
         44.46
        ],
        [
         39.0,
         485.16,
         0,
         7.84,
         14.0,
         "Grenada",
         42.35
        ],
        [
         51.0,
         737.22,
         1,
         7.74,
         14.0,
         "Armenia",
         45.02
        ],
        [
         46.0,
         925.89,
         1,
         8.51,
         14.0,
         "Antigua and Barbuda",
         44.34
        ],
        [
         60.0,
         836.68,
         1,
         7.45,
         13.0,
         "Comoros",
         41.41
        ],
        [
         48.0,
         844.2,
         1,
         8.08,
         14.0,
         "Lithuania",
         45.93
        ],
        [
         42.0,
         805.38,
         0,
         6.72,
         13.0,
         "Congo",
         40.57
        ],
        [
         52.0,
         669.21,
         1,
         7.35,
         13.0,
         "Bangladesh",
         46.26
        ],
        [
         33.0,
         1019.94,
         0,
         6.46,
         14.0,
         "Isle of Man",
         45.45
        ],
        [
         51.0,
         1243.86,
         0,
         6.26,
         14.0,
         "Antigua and Barbuda",
         44.78
        ],
        [
         45.0,
         846.68,
         0,
         9.98,
         15.0,
         "French Southern Territories",
         42.24
        ],
        [
         36.0,
         1056.69,
         1,
         6.11,
         14.0,
         "United States Minor Outlying Islands",
         42.48
        ],
        [
         48.0,
         934.01,
         1,
         7.97,
         14.0,
         "United States Minor Outlying Islands",
         44.58
        ],
        [
         52.0,
         660.79,
         1,
         8.08,
         13.0,
         "Venezuela",
         44.67
        ],
        [
         36.0,
         555.32,
         0,
         6.59,
         14.0,
         "Grenada",
         44.3
        ],
        [
         47.0,
         664.28,
         1,
         5.92,
         14.0,
         "Switzerland",
         42.75
        ],
        [
         37.0,
         828.68,
         0,
         6.63,
         14.0,
         "Saint Martin",
         42.27
        ],
        [
         37.0,
         855.17,
         1,
         8.68,
         14.0,
         "Indonesia",
         45.0
        ],
        [
         46.0,
         640.06,
         0,
         6.89,
         14.0,
         "Cocos (Keeling) Islands",
         44.48
        ],
        [
         39.0,
         596.69,
         0,
         8.73,
         14.0,
         "Gabon",
         42.1
        ],
        [
         48.0,
         776.02,
         1,
         8.63,
         14.0,
         "Palestinian Territory",
         44.58
        ],
        [
         36.0,
         821.21,
         0,
         6.35,
         14.0,
         "Saint Pierre and Miquelon",
         48.6
        ],
        [
         35.0,
         828.09,
         1,
         7.14,
         15.0,
         "Martinique",
         45.25
        ],
        [
         40.0,
         874.47,
         0,
         7.83,
         14.0,
         "Russian Federation",
         45.02
        ],
        [
         55.0,
         686.47,
         1,
         7.5,
         13.0,
         "Syrian Arab Republic",
         43.12
        ],
        [
         49.0,
         1019.63,
         0,
         7.65,
         13.0,
         "Jordan",
         44.36
        ],
        [
         45.0,
         805.67,
         1,
         6.71,
         15.0,
         "Madagascar",
         40.74
        ],
        [
         42.0,
         972.14,
         1,
         7.04,
         14.0,
         "Northern Mariana Islands",
         44.24
        ],
        [
         44.0,
         1045.32,
         0,
         7.03,
         14.0,
         "Guinea-Bissau",
         44.22
        ],
        [
         43.0,
         780.66,
         0,
         7.16,
         14.0,
         "Burkina Faso",
         44.06
        ],
        [
         46.0,
         783.48,
         1,
         7.82,
         14.0,
         "British Virgin Islands",
         43.09
        ],
        [
         36.0,
         594.29,
         0,
         7.14,
         15.0,
         "Falkland Islands (Malvinas)",
         43.2
        ],
        [
         38.0,
         959.81,
         1,
         7.84,
         13.0,
         "China",
         41.54
        ],
        [
         40.0,
         413.92,
         1,
         6.93,
         15.0,
         "Netherlands",
         40.76
        ],
        [
         48.0,
         1040.38,
         0,
         7.17,
         15.0,
         "Reunion",
         42.33
        ],
        [
         47.0,
         814.26,
         1,
         7.16,
         13.0,
         "Philippines",
         42.76
        ],
        [
         28.0,
         887.3,
         0,
         7.49,
         12.0,
         "Northern Mariana Islands",
         43.35
        ],
        [
         49.0,
         1081.16,
         0,
         5.73,
         14.0,
         "Burkina Faso",
         45.49
        ],
        [
         39.0,
         861.74,
         1,
         6.82,
         14.0,
         "United Kingdom",
         41.61
        ],
        [
         42.0,
         717.05,
         1,
         7.6,
         13.0,
         "Korea",
         44.96
        ],
        [
         43.0,
         952.19,
         1,
         7.06,
         13.0,
         "Sudan",
         44.15
        ],
        [
         37.0,
         581.9,
         0,
         6.44,
         14.0,
         "Guinea-Bissau",
         44.28
        ],
        [
         40.0,
         930.52,
         0,
         8.47,
         13.0,
         "Uzbekistan",
         42.65
        ],
        [
         35.0,
         669.51,
         0,
         7.12,
         14.0,
         "Kiribati",
         45.94
        ],
        [
         31.0,
         844.64,
         1,
         7.48,
         14.0,
         "Timor-Leste",
         41.86
        ],
        [
         43.0,
         859.48,
         1,
         7.02,
         14.0,
         "Costa Rica",
         46.0
        ],
        [
         41.0,
         752.95,
         0,
         9.37,
         14.0,
         "Heard Island and McDonald Islands",
         46.52
        ],
        [
         49.0,
         965.09,
         0,
         8.19,
         13.0,
         "Saint Kitts and Nevis",
         47.08
        ],
        [
         49.0,
         704.64,
         0,
         7.96,
         14.0,
         "Benin",
         45.34
        ],
        [
         44.0,
         948.6,
         1,
         7.89,
         14.0,
         "United Arab Emirates",
         44.01
        ],
        [
         45.0,
         1077.69,
         1,
         8.33,
         13.0,
         "Norway",
         44.83
        ],
        [
         43.0,
         881.46,
         0,
         7.64,
         14.0,
         "Czech Republic",
         43.79
        ],
        [
         38.0,
         916.41,
         1,
         8.13,
         13.0,
         "Malaysia",
         43.81
        ],
        [
         33.0,
         589.62,
         1,
         7.52,
         13.0,
         "Saint Helena",
         44.11
        ],
        [
         41.0,
         808.67,
         1,
         7.41,
         14.0,
         "Georgia",
         45.21
        ],
        [
         46.0,
         757.14,
         1,
         6.09,
         14.0,
         "Oman",
         40.77
        ],
        [
         57.0,
         898.29,
         1,
         5.95,
         14.0,
         "Netherlands",
         41.15
        ],
        [
         46.0,
         921.99,
         0,
         9.74,
         14.0,
         "Singapore",
         40.0
        ],
        [
         52.0,
         957.47,
         1,
         6.37,
         14.0,
         "Taiwan",
         41.04
        ],
        [
         50.0,
         535.88,
         0,
         7.16,
         14.0,
         "Grenada",
         42.39
        ],
        [
         35.0,
         1018.53,
         1,
         7.75,
         14.0,
         "Cyprus",
         45.79
        ],
        [
         40.0,
         842.59,
         1,
         6.41,
         14.0,
         "Bahamas",
         43.32
        ],
        [
         34.0,
         878.07,
         0,
         7.65,
         15.0,
         "Cook Islands",
         42.87
        ],
        [
         44.0,
         946.83,
         0,
         8.27,
         13.0,
         "Egypt",
         44.39
        ],
        [
         45.0,
         1081.75,
         1,
         5.66,
         13.0,
         "Macao",
         44.69
        ],
        [
         52.0,
         970.78,
         1,
         6.97,
         13.0,
         "Cape Verde",
         42.84
        ],
        [
         31.0,
         823.61,
         0,
         7.35,
         14.0,
         "Sri Lanka",
         47.0
        ],
        [
         47.0,
         853.6,
         0,
         7.4,
         15.0,
         "British Indian Ocean Territory (Chagos Archipelago)",
         47.16
        ],
        [
         55.0,
         595.19,
         0,
         8.04,
         14.0,
         "Western Sahara",
         45.14
        ],
        [
         40.0,
         816.29,
         1,
         8.71,
         13.0,
         "Syrian Arab Republic",
         44.36
        ],
        [
         40.0,
         1024.68,
         1,
         8.29,
         15.0,
         "Czech Republic",
         46.24
        ],
        [
         45.0,
         921.05,
         0,
         5.82,
         13.0,
         "Togo",
         43.01
        ],
        [
         42.0,
         500.49,
         0,
         8.21,
         12.0,
         "Sweden",
         43.7
        ],
        [
         42.0,
         978.74,
         1,
         8.43,
         14.0,
         "French Polynesia",
         45.45
        ],
        [
         45.0,
         756.64,
         0,
         8.12,
         13.0,
         "Iraq",
         42.95
        ],
        [
         50.0,
         1105.8,
         1,
         6.69,
         14.0,
         "Moldova",
         45.61
        ],
        [
         52.0,
         749.56,
         1,
         7.2,
         14.0,
         "Dominican Republic",
         44.04
        ],
        [
         31.0,
         962.5,
         1,
         6.54,
         14.0,
         "Czech Republic",
         44.5
        ],
        [
         41.0,
         871.18,
         1,
         6.89,
         14.0,
         "Christmas Island",
         45.88
        ],
        [
         55.0,
         804.37,
         1,
         10.0,
         13.0,
         "Cuba",
         43.74
        ],
        [
         33.0,
         916.74,
         1,
         6.96,
         14.0,
         "Pitcairn Islands",
         42.5
        ],
        [
         38.0,
         546.22,
         1,
         7.72,
         14.0,
         "Ukraine",
         40.58
        ],
        [
         45.0,
         952.8,
         1,
         7.4,
         14.0,
         "Switzerland",
         46.02
        ],
        [
         42.0,
         603.0,
         0,
         6.51,
         13.0,
         "Greece",
         42.04
        ],
        [
         33.0,
         709.34,
         1,
         7.42,
         14.0,
         "Burundi",
         42.49
        ],
        [
         38.0,
         407.63,
         0,
         7.68,
         14.0,
         "Palau",
         48.11
        ],
        [
         40.0,
         920.82,
         1,
         8.52,
         14.0,
         "Macao",
         47.97
        ],
        [
         43.0,
         712.2,
         1,
         7.5,
         13.0,
         "Papua New Guinea",
         41.72
        ],
        [
         56.0,
         1190.87,
         0,
         5.77,
         14.0,
         "Reunion",
         45.16
        ],
        [
         47.0,
         897.11,
         0,
         8.33,
         15.0,
         "Rwanda",
         45.4
        ],
        [
         32.0,
         799.24,
         1,
         7.19,
         14.0,
         "Svalbard & Jan Mayen Islands",
         44.41
        ],
        [
         43.0,
         663.74,
         1,
         7.45,
         13.0,
         "Liechtenstein",
         46.76
        ],
        [
         38.0,
         840.81,
         0,
         6.35,
         13.0,
         "Niger",
         44.32
        ],
        [
         55.0,
         970.68,
         0,
         7.93,
         15.0,
         "Haiti",
         43.68
        ],
        [
         27.0,
         844.01,
         0,
         7.73,
         13.0,
         "Tuvalu",
         45.89
        ],
        [
         47.0,
         540.31,
         0,
         7.78,
         13.0,
         "Colombia",
         43.95
        ],
        [
         46.0,
         1046.05,
         0,
         6.86,
         15.0,
         "Azerbaijan",
         42.75
        ],
        [
         44.0,
         675.72,
         0,
         7.8,
         14.0,
         "Latvia",
         43.04
        ],
        [
         43.0,
         837.58,
         0,
         6.29,
         14.0,
         "Saint Barthelemy",
         44.69
        ],
        [
         49.0,
         1330.5,
         1,
         7.96,
         13.0,
         "Andorra",
         42.56
        ],
        [
         40.0,
         993.62,
         0,
         7.03,
         14.0,
         "Australia",
         43.46
        ],
        [
         49.0,
         847.11,
         0,
         9.03,
         13.0,
         "Antarctica (the territory South of 60 deg S)",
         42.11
        ],
        [
         48.0,
         1114.98,
         1,
         6.74,
         14.0,
         "Trinidad and Tobago",
         43.92
        ],
        [
         52.0,
         800.64,
         0,
         6.1,
         14.0,
         "United States Virgin Islands",
         43.45
        ],
        [
         39.0,
         866.95,
         0,
         6.82,
         14.0,
         "Paraguay",
         44.12
        ],
        [
         33.0,
         1129.19,
         1,
         6.77,
         14.0,
         "Mauritania",
         44.34
        ],
        [
         37.0,
         832.2,
         1,
         7.75,
         15.0,
         "Libyan Arab Jamahiriya",
         42.24
        ],
        [
         52.0,
         942.14,
         1,
         6.95,
         14.0,
         "Myanmar",
         45.78
        ],
        [
         37.0,
         1053.76,
         1,
         7.34,
         14.0,
         "Indonesia",
         41.59
        ],
        [
         48.0,
         870.01,
         1,
         7.61,
         14.0,
         "Antigua and Barbuda",
         44.98
        ],
        [
         35.0,
         699.3,
         1,
         7.51,
         14.0,
         "Saint Kitts and Nevis",
         45.4
        ],
        [
         44.0,
         881.73,
         1,
         7.05,
         15.0,
         "Reunion",
         43.8
        ],
        [
         51.0,
         723.94,
         1,
         6.34,
         13.0,
         "Paraguay",
         44.27
        ],
        [
         41.0,
         760.15,
         0,
         7.63,
         14.0,
         "Equatorial Guinea",
         41.8
        ],
        [
         44.0,
         957.05,
         1,
         6.38,
         13.0,
         "United Arab Emirates",
         42.17
        ],
        [
         41.0,
         944.84,
         1,
         7.79,
         14.0,
         "Belgium",
         41.73
        ],
        [
         33.0,
         834.11,
         0,
         5.79,
         14.0,
         "Jamaica",
         44.96
        ],
        [
         41.0,
         706.51,
         0,
         7.61,
         14.0,
         "French Southern Territories",
         44.58
        ],
        [
         44.0,
         749.63,
         0,
         7.26,
         14.0,
         "Germany",
         42.6
        ],
        [
         42.0,
         1056.32,
         0,
         7.98,
         14.0,
         "Nauru",
         43.92
        ],
        [
         45.0,
         584.73,
         1,
         6.56,
         15.0,
         "Ukraine",
         41.72
        ],
        [
         39.0,
         830.06,
         0,
         7.5,
         14.0,
         "Guernsey",
         42.7
        ],
        [
         44.0,
         794.9,
         1,
         6.27,
         14.0,
         "Zimbabwe",
         43.39
        ],
        [
         52.0,
         951.14,
         0,
         8.66,
         14.0,
         "Bulgaria",
         47.74
        ],
        [
         43.0,
         1039.8,
         1,
         7.08,
         13.0,
         "Iraq",
         44.98
        ],
        [
         39.0,
         833.94,
         0,
         7.52,
         14.0,
         "Svalbard & Jan Mayen Islands",
         46.68
        ],
        [
         50.0,
         842.78,
         0,
         6.62,
         15.0,
         "United States Virgin Islands",
         44.69
        ],
        [
         37.0,
         746.81,
         0,
         7.93,
         14.0,
         "Guinea-Bissau",
         43.12
        ],
        [
         39.0,
         761.91,
         1,
         6.99,
         14.0,
         "Belarus",
         43.23
        ],
        [
         43.0,
         983.48,
         0,
         8.6,
         13.0,
         "British Indian Ocean Territory (Chagos Archipelago)",
         43.21
        ],
        [
         39.0,
         690.22,
         1,
         6.8,
         13.0,
         "Guinea-Bissau",
         42.75
        ],
        [
         36.0,
         1060.69,
         1,
         6.26,
         14.0,
         "Canada",
         43.86
        ],
        [
         42.0,
         729.47,
         0,
         7.95,
         14.0,
         "Tuvalu",
         45.27
        ]
       ],
       "datasetInfos": [],
       "dbfsResultPath": null,
       "isJsonSchema": true,
       "metadata": {},
       "overflow": false,
       "plotOptions": {
        "customPlotOptions": {},
        "displayType": "table",
        "pivotAggregation": null,
        "pivotColumns": null,
        "xColumns": null,
        "yColumns": null
       },
       "removedWidgets": [],
       "schema": [
        {
         "metadata": "{}",
         "name": "Session_Connection_Time",
         "type": "\"double\""
        },
        {
         "metadata": "{}",
         "name": "Bytes Transferred",
         "type": "\"double\""
        },
        {
         "metadata": "{}",
         "name": "Kali_Trace_Used",
         "type": "\"integer\""
        },
        {
         "metadata": "{}",
         "name": "Servers_Corrupted",
         "type": "\"double\""
        },
        {
         "metadata": "{}",
         "name": "Pages_Corrupted",
         "type": "\"double\""
        },
        {
         "metadata": "{}",
         "name": "Location",
         "type": "\"string\""
        },
        {
         "metadata": "{}",
         "name": "WPM_Typing_Speed",
         "type": "\"double\""
        }
       ],
       "type": "table"
      }
     },
     "output_type": "display_data"
    }
   ],
   "source": [
    "# File location and type\n",
    "file_location = \"/FileStore/tables/hack_data-10.csv\"\n",
    "file_type = \"csv\"\n",
    "\n",
    "# CSV options\n",
    "infer_schema = \"true\"\n",
    "first_row_is_header = \"true\"\n",
    "delimiter = \",\"\n",
    "\n",
    "# The applied options are for CSV files. For other file types, these will be ignored.\n",
    "df = spark.read.format(file_type) \\\n",
    "  .option(\"inferSchema\", infer_schema) \\\n",
    "  .option(\"header\", first_row_is_header) \\\n",
    "  .option(\"sep\", delimiter) \\\n",
    "  .load(file_location)\n",
    "\n",
    "display(df)"
   ]
  },
  {
   "cell_type": "code",
   "execution_count": 0,
   "metadata": {
    "application/vnd.databricks.v1+cell": {
     "cellMetadata": {
      "byteLimit": 2048000,
      "rowLimit": 10000
     },
     "inputWidgets": {},
     "nuid": "9c69a03d-4373-4ece-af62-36175e002d5e",
     "showTitle": false,
     "title": ""
    }
   },
   "outputs": [
    {
     "output_type": "stream",
     "name": "stdout",
     "output_type": "stream",
     "text": [
      "Out[2]: ['Session_Connection_Time',\n 'Bytes Transferred',\n 'Kali_Trace_Used',\n 'Servers_Corrupted',\n 'Pages_Corrupted',\n 'Location',\n 'WPM_Typing_Speed']"
     ]
    }
   ],
   "source": [
    "df.columns"
   ]
  },
  {
   "cell_type": "code",
   "execution_count": 0,
   "metadata": {
    "application/vnd.databricks.v1+cell": {
     "cellMetadata": {
      "byteLimit": 2048000,
      "rowLimit": 10000
     },
     "inputWidgets": {},
     "nuid": "3b32a319-c8ee-4918-bff5-8df4693593a1",
     "showTitle": false,
     "title": ""
    }
   },
   "outputs": [],
   "source": [
    "from pyspark.sql import SparkSession"
   ]
  },
  {
   "cell_type": "code",
   "execution_count": 0,
   "metadata": {
    "application/vnd.databricks.v1+cell": {
     "cellMetadata": {
      "byteLimit": 2048000,
      "rowLimit": 10000
     },
     "inputWidgets": {},
     "nuid": "5c3b4a5c-f377-46a4-97f1-8e788986dabb",
     "showTitle": false,
     "title": ""
    }
   },
   "outputs": [],
   "source": [
    "spark = SparkSession.builder.appName('clust').getOrCreate()"
   ]
  },
  {
   "cell_type": "code",
   "execution_count": 0,
   "metadata": {
    "application/vnd.databricks.v1+cell": {
     "cellMetadata": {
      "byteLimit": 2048000,
      "rowLimit": 10000
     },
     "inputWidgets": {},
     "nuid": "b2a18c56-0a5c-405b-be62-6522650b2715",
     "showTitle": false,
     "title": ""
    }
   },
   "outputs": [],
   "source": [
    "from pyspark.ml.clustering import KMeans"
   ]
  },
  {
   "cell_type": "code",
   "execution_count": 0,
   "metadata": {
    "application/vnd.databricks.v1+cell": {
     "cellMetadata": {
      "byteLimit": 2048000,
      "rowLimit": 10000
     },
     "inputWidgets": {},
     "nuid": "5fa9ec90-1a73-419b-9420-dc56d1929bcb",
     "showTitle": false,
     "title": ""
    }
   },
   "outputs": [],
   "source": [
    "from pyspark.ml.feature import VectorAssembler\n",
    "from pyspark.ml.feature import StandardScaler"
   ]
  },
  {
   "cell_type": "code",
   "execution_count": 0,
   "metadata": {
    "application/vnd.databricks.v1+cell": {
     "cellMetadata": {
      "byteLimit": 2048000,
      "rowLimit": 10000
     },
     "inputWidgets": {},
     "nuid": "af1341a3-7aa1-4e05-8a78-e8a15533d86b",
     "showTitle": false,
     "title": ""
    }
   },
   "outputs": [],
   "source": [
    "vc = VectorAssembler(inputCols=['Session_Connection_Time',\n",
    " 'Bytes Transferred',\n",
    " 'Kali_Trace_Used',\n",
    " 'Servers_Corrupted',\n",
    " 'Pages_Corrupted',\n",
    " 'WPM_Typing_Speed'], outputCol='features')"
   ]
  },
  {
   "cell_type": "code",
   "execution_count": 0,
   "metadata": {
    "application/vnd.databricks.v1+cell": {
     "cellMetadata": {
      "byteLimit": 2048000,
      "rowLimit": 10000
     },
     "inputWidgets": {},
     "nuid": "bbb6381c-aeb0-4926-bb5d-0c2a5dfddcf0",
     "showTitle": false,
     "title": ""
    }
   },
   "outputs": [],
   "source": [
    "ft = vc.transform(df)"
   ]
  },
  {
   "cell_type": "code",
   "execution_count": 0,
   "metadata": {
    "application/vnd.databricks.v1+cell": {
     "cellMetadata": {
      "byteLimit": 2048000,
      "rowLimit": 10000
     },
     "inputWidgets": {},
     "nuid": "d6ae9422-0529-42d5-a28b-1e19c08e4db4",
     "showTitle": false,
     "title": ""
    }
   },
   "outputs": [],
   "source": [
    "sc = StandardScaler(inputCol='features',outputCol='sc_feat')"
   ]
  },
  {
   "cell_type": "code",
   "execution_count": 0,
   "metadata": {
    "application/vnd.databricks.v1+cell": {
     "cellMetadata": {
      "byteLimit": 2048000,
      "rowLimit": 10000
     },
     "inputWidgets": {},
     "nuid": "d5c8426e-e2be-4966-ae2e-76f39772ca80",
     "showTitle": false,
     "title": ""
    }
   },
   "outputs": [],
   "source": [
    "ft=sc.fit(ft).transform(ft)"
   ]
  },
  {
   "cell_type": "code",
   "execution_count": 0,
   "metadata": {
    "application/vnd.databricks.v1+cell": {
     "cellMetadata": {
      "byteLimit": 2048000,
      "rowLimit": 10000
     },
     "inputWidgets": {},
     "nuid": "3ee2327a-c7d6-471c-9a1e-4de020729865",
     "showTitle": false,
     "title": ""
    }
   },
   "outputs": [
    {
     "output_type": "stream",
     "name": "stdout",
     "output_type": "stream",
     "text": [
      "Out[16]: ['Session_Connection_Time',\n 'Bytes Transferred',\n 'Kali_Trace_Used',\n 'Servers_Corrupted',\n 'Pages_Corrupted',\n 'Location',\n 'WPM_Typing_Speed',\n 'features',\n 'sc_feat']"
     ]
    }
   ],
   "source": [
    "ft.columns"
   ]
  },
  {
   "cell_type": "code",
   "execution_count": 0,
   "metadata": {
    "application/vnd.databricks.v1+cell": {
     "cellMetadata": {
      "byteLimit": 2048000,
      "rowLimit": 10000
     },
     "inputWidgets": {},
     "nuid": "e361633a-40aa-40eb-821a-e3efe2adb206",
     "showTitle": false,
     "title": ""
    }
   },
   "outputs": [
    {
     "output_type": "stream",
     "name": "stdout",
     "output_type": "stream",
     "text": [
      "root\n |-- Session_Connection_Time: double (nullable = true)\n |-- Bytes Transferred: double (nullable = true)\n |-- Kali_Trace_Used: integer (nullable = true)\n |-- Servers_Corrupted: double (nullable = true)\n |-- Pages_Corrupted: double (nullable = true)\n |-- Location: string (nullable = true)\n |-- WPM_Typing_Speed: double (nullable = true)\n |-- features: vector (nullable = true)\n |-- sc_feat: vector (nullable = true)\n\n"
     ]
    }
   ],
   "source": [
    "ft.printSchema()"
   ]
  },
  {
   "cell_type": "code",
   "execution_count": 0,
   "metadata": {
    "application/vnd.databricks.v1+cell": {
     "cellMetadata": {
      "byteLimit": 2048000,
      "rowLimit": 10000
     },
     "inputWidgets": {},
     "nuid": "7e90bbdb-40f1-4249-be8f-d8987e30e050",
     "showTitle": false,
     "title": ""
    }
   },
   "outputs": [],
   "source": [
    "k2 = KMeans(featuresCol='sc_feat',k=2)\n",
    "k3 = KMeans(featuresCol='sc_feat',k=3)"
   ]
  },
  {
   "cell_type": "code",
   "execution_count": 0,
   "metadata": {
    "application/vnd.databricks.v1+cell": {
     "cellMetadata": {
      "byteLimit": 2048000,
      "rowLimit": 10000
     },
     "inputWidgets": {},
     "nuid": "280f3750-ccfd-416e-8345-d8781aacf5d9",
     "showTitle": false,
     "title": ""
    }
   },
   "outputs": [],
   "source": [
    "model_1 = k2.fit(ft.select('sc_feat'))"
   ]
  },
  {
   "cell_type": "code",
   "execution_count": 0,
   "metadata": {
    "application/vnd.databricks.v1+cell": {
     "cellMetadata": {
      "byteLimit": 2048000,
      "rowLimit": 10000
     },
     "inputWidgets": {},
     "nuid": "b5d5fa9a-e16d-474e-a56b-1b2585f941d1",
     "showTitle": false,
     "title": ""
    }
   },
   "outputs": [],
   "source": [
    "pre = model_1.transform(ft.select('sc_feat'))"
   ]
  },
  {
   "cell_type": "code",
   "execution_count": 0,
   "metadata": {
    "application/vnd.databricks.v1+cell": {
     "cellMetadata": {
      "byteLimit": 2048000,
      "rowLimit": 10000
     },
     "inputWidgets": {},
     "nuid": "e0a04189-3c98-4838-90c5-1e0b7f47fae1",
     "showTitle": false,
     "title": ""
    }
   },
   "outputs": [
    {
     "output_type": "stream",
     "name": "stdout",
     "output_type": "stream",
     "text": [
      "+----------+-----+\n|prediction|count|\n+----------+-----+\n|         1|  167|\n|         0|  167|\n+----------+-----+\n\n"
     ]
    }
   ],
   "source": [
    "pre.select('prediction').groupBy('prediction').count().show()"
   ]
  },
  {
   "cell_type": "code",
   "execution_count": 0,
   "metadata": {
    "application/vnd.databricks.v1+cell": {
     "cellMetadata": {
      "byteLimit": 2048000,
      "rowLimit": 10000
     },
     "inputWidgets": {},
     "nuid": "19944618-8e1c-4305-aa9b-fef0da70e8e4",
     "showTitle": false,
     "title": ""
    }
   },
   "outputs": [],
   "source": [
    "model_2 = k3.fit(ft.select('sc_feat'))"
   ]
  },
  {
   "cell_type": "code",
   "execution_count": 0,
   "metadata": {
    "application/vnd.databricks.v1+cell": {
     "cellMetadata": {
      "byteLimit": 2048000,
      "rowLimit": 10000
     },
     "inputWidgets": {},
     "nuid": "7a8e8959-4779-4921-9bae-3dd5254b58e1",
     "showTitle": false,
     "title": ""
    }
   },
   "outputs": [],
   "source": [
    "pro = model_2.transform(ft.select('sc_feat'))"
   ]
  },
  {
   "cell_type": "code",
   "execution_count": 0,
   "metadata": {
    "application/vnd.databricks.v1+cell": {
     "cellMetadata": {
      "byteLimit": 2048000,
      "rowLimit": 10000
     },
     "inputWidgets": {},
     "nuid": "5e8f8458-94b9-4156-a32c-db3305910f65",
     "showTitle": false,
     "title": ""
    }
   },
   "outputs": [
    {
     "output_type": "stream",
     "name": "stdout",
     "output_type": "stream",
     "text": [
      "+----------+-----+\n|prediction|count|\n+----------+-----+\n|         1|   83|\n|         2|   84|\n|         0|  167|\n+----------+-----+\n\n"
     ]
    }
   ],
   "source": [
    "pro.select('prediction').groupBy('prediction').count().show()"
   ]
  },
  {
   "cell_type": "code",
   "execution_count": 0,
   "metadata": {
    "application/vnd.databricks.v1+cell": {
     "cellMetadata": {},
     "inputWidgets": {},
     "nuid": "9b20b9fa-3c4d-4aa4-be46-27ff63ea44fc",
     "showTitle": false,
     "title": ""
    }
   },
   "outputs": [],
   "source": []
  }
 ],
 "metadata": {
  "application/vnd.databricks.v1+notebook": {
   "dashboards": [],
   "environmentMetadata": null,
   "language": "python",
   "notebookMetadata": {
    "pythonIndentUnit": 4
   },
   "notebookName": "unsupervised lr project",
   "widgets": {}
  }
 },
 "nbformat": 4,
 "nbformat_minor": 0
}
